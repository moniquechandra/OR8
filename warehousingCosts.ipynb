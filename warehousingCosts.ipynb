{
 "cells": [
  {
   "cell_type": "code",
   "execution_count": 1,
   "metadata": {},
   "outputs": [],
   "source": [
    "import pandas as pd\n",
    "import numpy as np\n",
    "import warnings\n",
    "warnings.filterwarnings('ignore')\n",
    "\n",
    "from prod_details import Parameters\n",
    "pm = Parameters()"
   ]
  },
  {
   "cell_type": "code",
   "execution_count": 2,
   "metadata": {},
   "outputs": [],
   "source": [
    "# Load the data\n",
    "warehousing_handlingOut_data = pd.read_excel('Warehousing.xlsx', sheet_name='Handling Out')\n",
    "warehousing_handlingIn_data = pd.read_excel('Warehousing.xlsx', sheet_name='Handling In')\n",
    "warehousing_handlingIn_data.index = warehousing_handlingOut_data.DC\n",
    "warehousing_storageCost = pd.read_excel('Warehousing.xlsx', sheet_name='Storage')\n",
    "demand_data = pd.read_excel('Demand Forecast.xlsx')\n",
    "unit_data = pd.read_excel('Product Data per State.xlsx')\n",
    "unit_data.index = unit_data.state\n",
    "\n",
    "product_data = pd.read_excel('Product Master Data.xlsx')\n",
    "product_data.index = product_data.COMM_NAME\n",
    "\n",
    "warehousing_handlingOut_data.index = warehousing_handlingOut_data.DC\n",
    "warehousing_handlingIn_data.index = warehousing_handlingOut_data.DC\n",
    "warehousing_storageCost.index = warehousing_storageCost.DC\n",
    "demand_data.index = demand_data.state"
   ]
  },
  {
   "cell_type": "code",
   "execution_count": 22,
   "metadata": {},
   "outputs": [],
   "source": [
    "# Can be deleted if it is not too necessary\n",
    "as_is_dc = as_is_dc = {\n",
    "    \"NY\": ['CT', 'DC', 'DE', 'MA', 'MD', 'ME', 'NH', 'NJ', 'NY', 'PA', 'RI', 'VT'],\n",
    "    \"ND\": ['MN', 'MT', 'ND', 'SD', 'WY'],\n",
    "    \"IL\": ['HI', 'IA', 'IL', 'IN', 'KS', 'KY', 'MI', 'MO', 'NE', 'OH', 'VA', 'WI', 'WV'],\n",
    "    \"TN\": ['AL', 'FL', 'GA', 'NC', 'SC', 'TN'],\n",
    "    \"WA\": ['AK', 'ID', 'OR', 'WA'],\n",
    "    \"TX\": ['AR', 'AZ', 'LA', 'MS', 'NM', 'OK', 'TX'],\n",
    "    \"UT\": ['CA', 'CO', 'NV', 'UT']\n",
    "}\n",
    "\n",
    "dc_product_demand_box = pm.product_demand_per_dc(as_is_dc, demand_data, product_data)\n",
    "dc_product_demand_container = pm.product_demand_per_dc(as_is_dc, demand_data, product_data, unit_in_box=False)"
   ]
  },
  {
   "cell_type": "code",
   "execution_count": 9,
   "metadata": {},
   "outputs": [
    {
     "data": {
      "text/plain": [
       "{'NY': {'blender': 87,\n",
       "  'swing': 3,\n",
       "  'chair': 109,\n",
       "  'scooter': 2,\n",
       "  'skiprope': 585},\n",
       " 'ND': {'blender': 13, 'swing': 1, 'chair': 16, 'scooter': 13, 'skiprope': 83},\n",
       " 'IL': {'blender': 105,\n",
       "  'swing': 3,\n",
       "  'chair': 131,\n",
       "  'scooter': 3,\n",
       "  'skiprope': 703},\n",
       " 'TN': {'blender': 84,\n",
       "  'swing': 3,\n",
       "  'chair': 104,\n",
       "  'scooter': 2,\n",
       "  'skiprope': 560},\n",
       " 'WA': {'blender': 20, 'swing': 1, 'chair': 25, 'scooter': 1, 'skiprope': 133},\n",
       " 'TX': {'blender': 74, 'swing': 3, 'chair': 92, 'scooter': 2, 'skiprope': 493},\n",
       " 'UT': {'blender': 69, 'swing': 3, 'chair': 87, 'scooter': 2, 'skiprope': 464}}"
      ]
     },
     "execution_count": 9,
     "metadata": {},
     "output_type": "execute_result"
    }
   ],
   "source": [
    "volume_dc = pm.volume_per_dc(dc_product_demand_box)\n",
    "volume_dc"
   ]
  },
  {
   "cell_type": "code",
   "execution_count": 12,
   "metadata": {},
   "outputs": [
    {
     "data": {
      "text/plain": [
       "1341612"
      ]
     },
     "execution_count": 12,
     "metadata": {},
     "output_type": "execute_result"
    }
   ],
   "source": [
    "total_storage_costs = pm.storage_costs(volume_dc, pm.warehousing_storageCost)\n",
    "total_storage_costs"
   ]
  },
  {
   "cell_type": "code",
   "execution_count": 13,
   "metadata": {},
   "outputs": [
    {
     "data": {
      "text/plain": [
       "55780"
      ]
     },
     "execution_count": 13,
     "metadata": {},
     "output_type": "execute_result"
    }
   ],
   "source": [
    "total_handling_in_costs = pm.handling_in_costs(dc_product_demand_container, pm.warehousing_handlingIn_data)\n",
    "total_handling_in_costs"
   ]
  },
  {
   "cell_type": "code",
   "execution_count": 15,
   "metadata": {},
   "outputs": [
    {
     "data": {
      "text/plain": [
       "686104.2999999999"
      ]
     },
     "execution_count": 15,
     "metadata": {},
     "output_type": "execute_result"
    }
   ],
   "source": [
    "total_handling_out_costs = pm.handling_out_costs(as_is_dc, pm.unit_data, pm.warehousing_handlingOut_data)\n",
    "total_handling_out_costs"
   ]
  },
  {
   "cell_type": "code",
   "execution_count": 20,
   "metadata": {},
   "outputs": [],
   "source": [
    "class Warehousing():\n",
    "    def __init__(self, dc_allocation):\n",
    "        self.dc_allocation = dc_allocation\n",
    "\n",
    "        dc_product_demand = pm.product_demand_per_dc(self.dc_allocation, pm.demand_data, pm.product_data)\n",
    "        volume_dc = pm.volume_per_dc(dc_product_demand)\n",
    "        storage = pm.storage_costs(volume_dc, pm.warehousing_storageCost)\n",
    "        handling_in = pm.handling_in_costs(dc_product_demand_container, pm.warehousing_handlingIn_data)\n",
    "        handling_out = pm.handling_out_costs(self.dc_allocation, pm.unit_data, pm.warehousing_handlingOut_data)\n",
    "        warehousing = pm.warehousing_costs(storage, handling_in, handling_out)"
   ]
  }
 ],
 "metadata": {
  "kernelspec": {
   "display_name": "Python 3",
   "language": "python",
   "name": "python3"
  },
  "language_info": {
   "codemirror_mode": {
    "name": "ipython",
    "version": 3
   },
   "file_extension": ".py",
   "mimetype": "text/x-python",
   "name": "python",
   "nbconvert_exporter": "python",
   "pygments_lexer": "ipython3",
   "version": "3.11.9"
  }
 },
 "nbformat": 4,
 "nbformat_minor": 2
}
