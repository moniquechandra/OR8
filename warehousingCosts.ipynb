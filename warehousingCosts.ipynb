{
 "cells": [
  {
   "cell_type": "code",
   "execution_count": 2,
   "metadata": {},
   "outputs": [],
   "source": [
    "import pandas as pd\n",
    "import warnings\n",
    "warnings.filterwarnings('ignore')\n",
    "\n",
    "from prod_details import product_demand_per_dc, handling_out_costs, handling_in_costs, volume_per_dc, storage_costs, warehousing_costs"
   ]
  },
  {
   "cell_type": "code",
   "execution_count": 3,
   "metadata": {},
   "outputs": [],
   "source": [
    "# Load the data\n",
    "warehousing_handlingOut_data = pd.read_excel('Warehousing.xlsx', sheet_name='Handling Out')\n",
    "warehousing_handlingIn_data = pd.read_excel('Warehousing.xlsx', sheet_name='Handling In')\n",
    "warehousing_handlingIn_data.index = warehousing_handlingOut_data.DC\n",
    "warehousing_storageCost = pd.read_excel('Warehousing.xlsx', sheet_name='Storage')\n",
    "demand_data = pd.read_excel('Demand Forecast.xlsx')\n",
    "unit_data = pd.read_excel('Product Data per State.xlsx')\n",
    "unit_data.index = unit_data.state\n",
    "\n",
    "product_data = pd.read_excel('Product Master Data.xlsx')\n",
    "product_data.index = product_data.COMM_NAME\n",
    "\n",
    "warehousing_handlingOut_data.index = warehousing_handlingOut_data.DC\n",
    "warehousing_handlingIn_data.index = warehousing_handlingOut_data.DC\n",
    "warehousing_storageCost.index = warehousing_storageCost.DC\n",
    "demand_data.index = demand_data.state"
   ]
  },
  {
   "cell_type": "code",
   "execution_count": 4,
   "metadata": {},
   "outputs": [],
   "source": [
    "# Can be deleted if it is not too necessary\n",
    "as_is_dc = as_is_dc = {\n",
    "    \"NY\": ['CT', 'DC', 'DE', 'MA', 'MD', 'ME', 'NH', 'NJ', 'NY', 'PA', 'RI', 'VT'],\n",
    "    \"ND\": ['MN', 'MT', 'ND', 'SD', 'WY'],\n",
    "    \"IL\": ['HI', 'IA', 'IL', 'IN', 'KS', 'KY', 'MI', 'MO', 'NE', 'OH', 'VA', 'WI', 'WV'],\n",
    "    \"TN\": ['AL', 'FL', 'GA', 'NC', 'SC', 'TN'],\n",
    "    \"WA\": ['AK', 'ID', 'OR', 'WA'],\n",
    "    \"TX\": ['AR', 'AZ', 'LA', 'MS', 'NM', 'OK', 'TX'],\n",
    "    \"UT\": ['CA', 'CO', 'NV', 'UT']\n",
    "}\n",
    "\n",
    "dc_product_demand_box = product_demand_per_dc(as_is_dc, demand_data, product_data)\n",
    "dc_product_demand_container = product_demand_per_dc(as_is_dc, demand_data, product_data, unit_in_box=False)"
   ]
  },
  {
   "cell_type": "code",
   "execution_count": 5,
   "metadata": {},
   "outputs": [
    {
     "data": {
      "text/plain": [
       "{'NY': {'blender': 1584.233,\n",
       "  'swing': 29.105999999999998,\n",
       "  'chair': 1584.219,\n",
       "  'scooter': 64.66,\n",
       "  'skiprope': 5334.6425},\n",
       " 'ND': {'blender': 223.643,\n",
       "  'swing': 4.108499999999999,\n",
       "  'chair': 223.636,\n",
       "  'scooter': 456.64,\n",
       "  'skiprope': 753.0654999999999},\n",
       " 'IL': {'blender': 1902.684,\n",
       "  'swing': 34.946999999999996,\n",
       "  'chair': 1902.6699999999998,\n",
       "  'scooter': 77.68,\n",
       "  'skiprope': 6406.972},\n",
       " 'TN': {'blender': 1516.0810000000001,\n",
       "  'swing': 27.845999999999997,\n",
       "  'chair': 1516.0796,\n",
       "  'scooter': 61.9,\n",
       "  'skiprope': 5105.1714999999995},\n",
       " 'WA': {'blender': 360.059,\n",
       "  'swing': 6.614999999999999,\n",
       "  'chair': 360.0618,\n",
       "  'scooter': 14.700000000000001,\n",
       "  'skiprope': 1212.431},\n",
       " 'TX': {'blender': 1335.376,\n",
       "  'swing': 24.5295,\n",
       "  'chair': 1335.3773999999999,\n",
       "  'scooter': 54.5,\n",
       "  'skiprope': 4496.662499999999},\n",
       " 'UT': {'blender': 1256.5140000000001,\n",
       "  'swing': 23.080499999999997,\n",
       "  'chair': 1256.507,\n",
       "  'scooter': 51.28,\n",
       "  'skiprope': 4231.1224999999995}}"
      ]
     },
     "execution_count": 5,
     "metadata": {},
     "output_type": "execute_result"
    }
   ],
   "source": [
    "volume_dc = volume_per_dc(dc_product_demand_box, product_data)\n",
    "volume_dc"
   ]
  },
  {
   "cell_type": "code",
   "execution_count": 7,
   "metadata": {},
   "outputs": [
    {
     "name": "stdout",
     "output_type": "stream",
     "text": [
      "Storage Costs: 1224181.7518\n",
      "Total Handling In Costs: 180870\n",
      "Total Handling Out Costs: 1804220.62\n",
      "Total Warehousing Costs: 3209272.3718\n"
     ]
    }
   ],
   "source": [
    "class Warehousing:\n",
    "    storage = storage_costs(volume_dc, warehousing_storageCost)\n",
    "    handling_in = handling_in_costs(dc_product_demand_container, warehousing_handlingIn_data)\n",
    "    handling_out = handling_out_costs(as_is_dc, unit_data, warehousing_handlingOut_data)\n",
    "    warehousing = warehousing_costs(storage, handling_in, handling_out)"
   ]
  },
  {
   "cell_type": "code",
   "execution_count": null,
   "metadata": {},
   "outputs": [],
   "source": []
  }
 ],
 "metadata": {
  "kernelspec": {
   "display_name": "Python 3",
   "language": "python",
   "name": "python3"
  },
  "language_info": {
   "codemirror_mode": {
    "name": "ipython",
    "version": 3
   },
   "file_extension": ".py",
   "mimetype": "text/x-python",
   "name": "python",
   "nbconvert_exporter": "python",
   "pygments_lexer": "ipython3",
   "version": "3.11.9"
  }
 },
 "nbformat": 4,
 "nbformat_minor": 2
}
