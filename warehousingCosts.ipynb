{
 "cells": [
  {
   "cell_type": "code",
<<<<<<< HEAD
   "execution_count": 1,
=======
   "execution_count": 2,
>>>>>>> e347532c10b93eb2b06bfd73eb4688a8b6a1735a
   "metadata": {},
   "outputs": [],
   "source": [
    "import pandas as pd\n",
    "import numpy as np\n",
    "import warnings\n",
    "warnings.filterwarnings('ignore')\n",
    "\n",
    "from prod_details import Parameters\n",
    "pm = Parameters()"
   ]
  },
  {
   "cell_type": "code",
<<<<<<< HEAD
   "execution_count": 2,
   "metadata": {},
   "outputs": [],
=======
   "execution_count": 3,
   "metadata": {},
   "outputs": [
    {
     "name": "stdout",
     "output_type": "stream",
     "text": [
      "{'NY': {'blender': 226319, 'swing': 6468, 'chair': 161655, 'scooter': 3233, 'skiprope': 969935}, 'ND': {'blender': 31949, 'swing': 913, 'chair': 22820, 'scooter': 22832, 'skiprope': 136921}, 'IL': {'blender': 271812, 'swing': 7766, 'chair': 194150, 'scooter': 3884, 'skiprope': 1164904}, 'TN': {'blender': 216583, 'swing': 6188, 'chair': 154702, 'scooter': 3095, 'skiprope': 928213}, 'WA': {'blender': 51437, 'swing': 1470, 'chair': 36741, 'scooter': 735, 'skiprope': 220442}, 'TX': {'blender': 190768, 'swing': 5451, 'chair': 136263, 'scooter': 2725, 'skiprope': 817575}, 'UT': {'blender': 179502, 'swing': 5129, 'chair': 128215, 'scooter': 2564, 'skiprope': 769295}}\n"
     ]
    }
   ],
>>>>>>> e347532c10b93eb2b06bfd73eb4688a8b6a1735a
   "source": [
    "# Load the data\n",
    "warehousing_handlingOut_data = pd.read_excel('Warehousing.xlsx', sheet_name='Handling Out')\n",
    "warehousing_handlingIn_data = pd.read_excel('Warehousing.xlsx', sheet_name='Handling In')\n",
    "warehousing_handlingIn_data.index = warehousing_handlingOut_data.DC\n",
    "warehousing_storageCost = pd.read_excel('Warehousing.xlsx', sheet_name='Storage')\n",
    "demand_data = pd.read_excel('Demand Forecast.xlsx')\n",
    "unit_data = pd.read_excel('Product Data per State.xlsx')\n",
    "unit_data.index = unit_data.state\n",
    "\n",
    "product_data = pd.read_excel('Product Master Data.xlsx')\n",
    "product_data.index = product_data.COMM_NAME\n",
    "\n",
    "warehousing_handlingOut_data.index = warehousing_handlingOut_data.DC\n",
    "warehousing_handlingIn_data.index = warehousing_handlingOut_data.DC\n",
    "warehousing_storageCost.index = warehousing_storageCost.DC\n",
    "demand_data.index = demand_data.state"
   ]
  },
  {
   "cell_type": "code",
   "execution_count": 3,
   "metadata": {},
   "outputs": [],
   "source": [
    "# Can be deleted if it is not too necessary\n",
    "as_is_dc = as_is_dc = {\n",
    "    \"NY\": ['CT', 'DC', 'DE', 'MA', 'MD', 'ME', 'NH', 'NJ', 'NY', 'PA', 'RI', 'VT'],\n",
    "    \"ND\": ['MN', 'MT', 'ND', 'SD', 'WY'],\n",
    "    \"IL\": ['HI', 'IA', 'IL', 'IN', 'KS', 'KY', 'MI', 'MO', 'NE', 'OH', 'VA', 'WI', 'WV'],\n",
    "    \"TN\": ['AL', 'FL', 'GA', 'NC', 'SC', 'TN'],\n",
    "    \"WA\": ['AK', 'ID', 'OR', 'WA'],\n",
    "    \"TX\": ['AR', 'AZ', 'LA', 'MS', 'NM', 'OK', 'TX'],\n",
    "    \"UT\": ['CA', 'CO', 'NV', 'UT']\n",
    "}\n",
    "\n",
<<<<<<< HEAD
    "dc_product_demand_box = pm.product_demand_per_dc(as_is_dc, demand_data, product_data)\n",
    "dc_product_demand_container = pm.product_demand_per_dc(as_is_dc, demand_data, product_data, unit_in_box=False)"
=======
    "dc_product_demand = {}\n",
    "for dc in as_is_dc:\n",
    "    dc_product_demand[dc] = {}  # Create a dictionary for each DC\n",
    "    for product in ['blender', 'swing', 'chair', 'scooter', 'skiprope']:\n",
    "        total_demand_per_dc = 0\n",
    "        for state in as_is_dc[dc]:\n",
    "            total_demand_per_dc += (demand_data.loc[state, product])\n",
    "        dc_product_demand[dc][product] = total_demand_per_dc  # Store demand (in boxes) for each product based on DC\n",
    "\n",
    "print(dc_product_demand)"
>>>>>>> e347532c10b93eb2b06bfd73eb4688a8b6a1735a
   ]
  },
  {
   "cell_type": "code",
<<<<<<< HEAD
   "execution_count": 9,
   "metadata": {},
   "outputs": [
    {
     "data": {
      "text/plain": [
       "{'NY': {'blender': 87,\n",
       "  'swing': 3,\n",
       "  'chair': 109,\n",
       "  'scooter': 2,\n",
       "  'skiprope': 585},\n",
       " 'ND': {'blender': 13, 'swing': 1, 'chair': 16, 'scooter': 13, 'skiprope': 83},\n",
       " 'IL': {'blender': 105,\n",
       "  'swing': 3,\n",
       "  'chair': 131,\n",
       "  'scooter': 3,\n",
       "  'skiprope': 703},\n",
       " 'TN': {'blender': 84,\n",
       "  'swing': 3,\n",
       "  'chair': 104,\n",
       "  'scooter': 2,\n",
       "  'skiprope': 560},\n",
       " 'WA': {'blender': 20, 'swing': 1, 'chair': 25, 'scooter': 1, 'skiprope': 133},\n",
       " 'TX': {'blender': 74, 'swing': 3, 'chair': 92, 'scooter': 2, 'skiprope': 493},\n",
       " 'UT': {'blender': 69, 'swing': 3, 'chair': 87, 'scooter': 2, 'skiprope': 464}}"
      ]
     },
     "execution_count": 9,
     "metadata": {},
     "output_type": "execute_result"
    }
   ],
   "source": [
    "volume_dc = pm.volume_per_dc(dc_product_demand_box)\n",
    "volume_dc"
=======
   "execution_count": 4,
   "metadata": {},
   "outputs": [
    {
     "name": "stdout",
     "output_type": "stream",
     "text": [
      "{'NY': {'blender': 621.0, 'swing': 18.0, 'chair': 443.0, 'scooter': 9.0, 'skiprope': 2658.0}, 'ND': {'blender': 88.0, 'swing': 3.0, 'chair': 63.0, 'scooter': 63.0, 'skiprope': 376.0}, 'IL': {'blender': 745.0, 'swing': 22.0, 'chair': 532.0, 'scooter': 11.0, 'skiprope': 3192.0}, 'TN': {'blender': 594.0, 'swing': 17.0, 'chair': 424.0, 'scooter': 9.0, 'skiprope': 2544.0}, 'WA': {'blender': 141.0, 'swing': 5.0, 'chair': 101.0, 'scooter': 3.0, 'skiprope': 604.0}, 'TX': {'blender': 523.0, 'swing': 15.0, 'chair': 374.0, 'scooter': 8.0, 'skiprope': 2240.0}, 'UT': {'blender': 492.0, 'swing': 15.0, 'chair': 352.0, 'scooter': 8.0, 'skiprope': 2108.0}}\n",
      "{'NY': {'blender': 12420.0, 'swing': 540.0, 'chair': 11075.0, 'scooter': 90.0, 'skiprope': 106320.0}, 'ND': {'blender': 1760.0, 'swing': 90.0, 'chair': 1575.0, 'scooter': 630.0, 'skiprope': 15040.0}, 'IL': {'blender': 14900.0, 'swing': 660.0, 'chair': 13300.0, 'scooter': 110.0, 'skiprope': 127680.0}, 'TN': {'blender': 11880.0, 'swing': 510.0, 'chair': 10600.0, 'scooter': 90.0, 'skiprope': 101760.0}, 'WA': {'blender': 2820.0, 'swing': 150.0, 'chair': 2525.0, 'scooter': 30.0, 'skiprope': 24160.0}, 'TX': {'blender': 10460.0, 'swing': 450.0, 'chair': 9350.0, 'scooter': 80.0, 'skiprope': 89600.0}, 'UT': {'blender': 9840.0, 'swing': 450.0, 'chair': 8800.0, 'scooter': 80.0, 'skiprope': 84320.0}}\n",
      "{'NY': {'blender': 87.0, 'swing': 3.0, 'chair': 109.0, 'scooter': 2.0, 'skiprope': 585.0}, 'ND': {'blender': 13.0, 'swing': 1.0, 'chair': 16.0, 'scooter': 13.0, 'skiprope': 83.0}, 'IL': {'blender': 105.0, 'swing': 3.0, 'chair': 131.0, 'scooter': 3.0, 'skiprope': 703.0}, 'TN': {'blender': 84.0, 'swing': 3.0, 'chair': 104.0, 'scooter': 2.0, 'skiprope': 560.0}, 'WA': {'blender': 20.0, 'swing': 1.0, 'chair': 25.0, 'scooter': 1.0, 'skiprope': 133.0}, 'TX': {'blender': 74.0, 'swing': 3.0, 'chair': 92.0, 'scooter': 2.0, 'skiprope': 493.0}, 'UT': {'blender': 69.0, 'swing': 3.0, 'chair': 87.0, 'scooter': 2.0, 'skiprope': 464.0}}\n"
     ]
    }
   ],
   "source": [
    "warehousing_handlingOut_data = pd.read_excel('Warehousing.xlsx', sheet_name='Handling Out')\n",
    "warehousing_handlingIN_data = pd.read_excel('Warehousing.xlsx', sheet_name='Handling In', skiprows=1)\n",
    "#warehousing_storageCost = pd.read_excel('Warehousing.xlsx', sheet_name='Storage', skiprows= 1) \n",
    "\n",
    "divided_dict = {}\n",
    "for key, nested_dict in dc_product_demand.items():\n",
    "    divided_dict[key] = {nested_key: np.ceil(nested_value / 365) for nested_key, nested_value in nested_dict.items()}\n",
    "\n",
    "print(divided_dict)\n",
    "\n",
    "products = ['blender', 'swing', 'chair', 'scooter', 'skiprope']\n",
    "volume_perBox = [0.0070, 0.0045, 0.0098, 0.0200, 0.0055]\n",
    "average_stock_level_per_product = [ 20, 30, 25, 10, 40]\n",
    "\n",
    "volumes_perStates = {}\n",
    "\n",
    "averagestockLevelForProductPerState = {}\n",
    "\n",
    "for state, products_dict in divided_dict.items():\n",
    "    averagestockLevelForProductPerState[state] = {}\n",
    "    for i, product in enumerate(products):\n",
    "        num_boxes = products_dict[product]\n",
    "        hashtagdays = average_stock_level_per_product[i]\n",
    "        averagestockLevelForProductPerState[state][product] = np.ceil(num_boxes * hashtagdays)\n",
    "\n",
    "print(averagestockLevelForProductPerState)\n",
    "\n",
    "for state, products_dict in averagestockLevelForProductPerState.items():\n",
    "    volumes_perStates[state] = {}\n",
    "    for i, product in enumerate(products):\n",
    "        num_boxes = products_dict[product]\n",
    "        volume = volume_perBox[i]\n",
    "        volumes_perStates[state][product] = np.ceil(num_boxes * volume)\n",
    "\n",
    "\n",
    "print(volumes_perStates)"
>>>>>>> e347532c10b93eb2b06bfd73eb4688a8b6a1735a
   ]
  },
  {
   "cell_type": "code",
<<<<<<< HEAD
   "execution_count": 12,
   "metadata": {},
   "outputs": [
    {
     "data": {
      "text/plain": [
       "1341612"
      ]
     },
     "execution_count": 12,
     "metadata": {},
     "output_type": "execute_result"
    }
   ],
   "source": [
    "total_storage_costs = pm.storage_costs(volume_dc, pm.warehousing_storageCost)\n",
    "total_storage_costs"
=======
   "execution_count": 5,
   "metadata": {},
   "outputs": [
    {
     "name": "stdout",
     "output_type": "stream",
     "text": [
      "1341612.0\n",
      "{'NY': 60, 'ND': 10, 'IL': 27, 'TX': 19, 'MO': 15, 'CA': 40, 'TN': 10, 'PA': 30, 'UT': 20, 'WA': 29}\n"
     ]
    }
   ],
   "source": [
    "\n",
    "# Cost per cubic meter per month for each state\n",
    "cost_per_m3 = {\n",
    "    'NY': 60,\n",
    "    'ND': 10,\n",
    "    'IL': 27,\n",
    "    'TX': 19,\n",
    "    'MO': 15,\n",
    "    'CA': 40,\n",
    "    'TN': 10,\n",
    "    'PA': 30,\n",
    "    'UT': 20,\n",
    "    'WA': 29\n",
    "}\n",
    "\n",
    "# Initialize a dictionary to store the total sum for each state\n",
    "total_sums = {}\n",
    "# Initialize a dictionary to store the total cost for each state\n",
    "total_costs = {}\n",
    "\n",
    "# Calculate the total volume for each state\n",
    "for state, items in volumes_perStates.items():\n",
    "    total_sum = sum(items.values())\n",
    "    total_sums[state] = total_sum\n",
    "\n",
    "\n",
    "\n",
    "# Calculate the total cost for each state\n",
    "for state, total_sum in total_sums.items():\n",
    "    if state in cost_per_m3:\n",
    "        total_costs[state] = total_sum * cost_per_m3[state]\n",
    "\n",
    "total_cost_sum = sum(total_costs.values())\n",
    "print(total_cost_sum*12)\n",
    "\n",
    "#print(warehousing_storageCost['DC'])\n",
    "print(cost_per_m3)"
>>>>>>> e347532c10b93eb2b06bfd73eb4688a8b6a1735a
   ]
  },
  {
   "cell_type": "code",
   "execution_count": 13,
   "metadata": {},
   "outputs": [
    {
     "data": {
      "text/plain": [
       "55780"
      ]
     },
     "execution_count": 13,
     "metadata": {},
     "output_type": "execute_result"
    }
   ],
   "source": [
    "total_handling_in_costs = pm.handling_in_costs(dc_product_demand_container, pm.warehousing_handlingIn_data)\n",
    "total_handling_in_costs"
   ]
  },
  {
   "cell_type": "code",
   "execution_count": 15,
   "metadata": {},
   "outputs": [
    {
     "data": {
      "text/plain": [
       "686104.2999999999"
      ]
     },
     "execution_count": 15,
     "metadata": {},
     "output_type": "execute_result"
    }
   ],
   "source": [
    "total_handling_out_costs = pm.handling_out_costs(as_is_dc, pm.unit_data, pm.warehousing_handlingOut_data)\n",
    "total_handling_out_costs"
   ]
  },
  {
   "cell_type": "code",
   "execution_count": 20,
   "metadata": {},
   "outputs": [],
   "source": [
    "class Warehousing():\n",
    "    def __init__(self, dc_allocation):\n",
    "        self.dc_allocation = dc_allocation\n",
    "\n",
    "        dc_product_demand = pm.product_demand_per_dc(self.dc_allocation, pm.demand_data, pm.product_data)\n",
    "        volume_dc = pm.volume_per_dc(dc_product_demand)\n",
    "        storage = pm.storage_costs(volume_dc, pm.warehousing_storageCost)\n",
    "        handling_in = pm.handling_in_costs(dc_product_demand_container, pm.warehousing_handlingIn_data)\n",
    "        handling_out = pm.handling_out_costs(self.dc_allocation, pm.unit_data, pm.warehousing_handlingOut_data)\n",
    "        warehousing = pm.warehousing_costs(storage, handling_in, handling_out)"
   ]
  }
 ],
 "metadata": {
  "kernelspec": {
   "display_name": "Python 3",
   "language": "python",
   "name": "python3"
  },
  "language_info": {
   "codemirror_mode": {
    "name": "ipython",
    "version": 3
   },
   "file_extension": ".py",
   "mimetype": "text/x-python",
   "name": "python",
   "nbconvert_exporter": "python",
   "pygments_lexer": "ipython3",
   "version": "3.11.9"
  }
 },
 "nbformat": 4,
 "nbformat_minor": 2
}
