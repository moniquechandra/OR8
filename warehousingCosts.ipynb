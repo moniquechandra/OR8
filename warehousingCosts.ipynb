{
 "cells": [
  {
   "cell_type": "code",
   "execution_count": 63,
   "metadata": {},
   "outputs": [],
   "source": [
    "import numpy as np\n",
    "import pandas as pd\n",
    "import warnings\n",
    "warnings.filterwarnings('ignore')"
   ]
  },
  {
   "cell_type": "code",
   "execution_count": 64,
   "metadata": {},
   "outputs": [
    {
     "data": {
      "text/plain": [
       "{'NY': {'blender': 226319,\n",
       "  'swing': 6468,\n",
       "  'chair': 161655,\n",
       "  'scooter': 3233,\n",
       "  'skiprope': 969935},\n",
       " 'ND': {'blender': 31949,\n",
       "  'swing': 913,\n",
       "  'chair': 22820,\n",
       "  'scooter': 22832,\n",
       "  'skiprope': 136921},\n",
       " 'IL': {'blender': 271812,\n",
       "  'swing': 7766,\n",
       "  'chair': 194150,\n",
       "  'scooter': 3884,\n",
       "  'skiprope': 1164904},\n",
       " 'TN': {'blender': 216583,\n",
       "  'swing': 6188,\n",
       "  'chair': 154702,\n",
       "  'scooter': 3095,\n",
       "  'skiprope': 928213},\n",
       " 'WA': {'blender': 51437,\n",
       "  'swing': 1470,\n",
       "  'chair': 36741,\n",
       "  'scooter': 735,\n",
       "  'skiprope': 220442},\n",
       " 'TX': {'blender': 190768,\n",
       "  'swing': 5451,\n",
       "  'chair': 136263,\n",
       "  'scooter': 2725,\n",
       "  'skiprope': 817575},\n",
       " 'UT': {'blender': 179502,\n",
       "  'swing': 5129,\n",
       "  'chair': 128215,\n",
       "  'scooter': 2564,\n",
       "  'skiprope': 769295}}"
      ]
     },
     "execution_count": 64,
     "metadata": {},
     "output_type": "execute_result"
    }
   ],
   "source": [
    "outbound_data = pd.read_excel(\"Outbound.xlsx\")\n",
    "demand_data = pd.read_excel(\"Demand Forecast.xlsx\")\n",
    "unit_data = pd.read_excel('Product Data per State.xlsx')\n",
    "handling_out_data = pd.read_excel('Warehousing.xlsx')\n",
    "\n",
    "outbound_data.index = outbound_data.State\n",
    "demand_data.index = demand_data.state\n",
    "outbound_data = outbound_data.drop(['State','Small shipment'], axis=1)\n",
    "\n",
    "as_is_dc = {\n",
    "    \"NY\": ['CT', 'DC', 'DE', 'MA', 'MD', 'ME', 'NH', 'NJ', 'NY', 'PA', 'RI', 'VT'],\n",
    "    \"ND\": ['MN', 'MT', 'ND', 'SD', 'WY'],\n",
    "    \"IL\": ['HI', 'IA', 'IL', 'IN', 'KS', 'KY', 'MI', 'MO', 'NE', 'OH', 'VA', 'WI', 'WV'],\n",
    "    \"TN\": ['AL', 'FL', 'GA', 'NC', 'SC', 'TN'],\n",
    "    \"WA\": ['AK', 'ID', 'OR', 'WA'],\n",
    "    \"TX\": ['AR', 'AZ', 'LA', 'MS', 'NM', 'OK', 'TX'],\n",
    "    \"UT\": ['CA', 'CO', 'NV', 'UT']\n",
    "}\n",
    "\n",
    "dc_product_demand = {}\n",
    "for dc in as_is_dc:\n",
    "    dc_product_demand[dc] = {}  # Create a dictionary for each DC\n",
    "    for product in ['blender', 'swing', 'chair', 'scooter', 'skiprope']:\n",
    "        total_demand_per_dc = 0\n",
    "        for state in as_is_dc[dc]:\n",
    "            total_demand_per_dc += (demand_data.loc[state, product])\n",
    "        dc_product_demand[dc][product] = total_demand_per_dc  # Store demand (in boxes) for each product based on DC\n",
    "\n",
    "dc_product_demand"
   ]
  },
  {
   "cell_type": "code",
   "execution_count": 74,
   "metadata": {},
   "outputs": [
    {
     "name": "stdout",
     "output_type": "stream",
     "text": [
      "{'NY': {'blender': 1585.0, 'swing': 30.0, 'chair': 1585.0, 'scooter': 65.0, 'skiprope': 5335.0}, 'ND': {'blender': 224.0, 'swing': 5.0, 'chair': 224.0, 'scooter': 457.0, 'skiprope': 754.0}, 'IL': {'blender': 1903.0, 'swing': 35.0, 'chair': 1903.0, 'scooter': 78.0, 'skiprope': 6407.0}, 'TN': {'blender': 1517.0, 'swing': 28.0, 'chair': 1517.0, 'scooter': 62.0, 'skiprope': 5106.0}, 'WA': {'blender': 361.0, 'swing': 7.0, 'chair': 361.0, 'scooter': 15.0, 'skiprope': 1213.0}, 'TX': {'blender': 1336.0, 'swing': 25.0, 'chair': 1336.0, 'scooter': 55.0, 'skiprope': 4497.0}, 'UT': {'blender': 1257.0, 'swing': 24.0, 'chair': 1257.0, 'scooter': 52.0, 'skiprope': 4232.0}}\n"
     ]
    }
   ],
   "source": [
    "warehousing_handlingOut_data = pd.read_excel('Warehousing.xlsx', sheet_name='Handling Out')\n",
    "warehousing_handlingIN_data = pd.read_excel('Warehousing.xlsx', sheet_name='Handling In', skiprows=1)\n",
    "warehousing_storageCost = pd.read_excel('Warehousing.xlsx', sheet_name='Storage', skiprows= 1) \n",
    "\n",
    "products = ['blender', 'swing', 'chair', 'scooter', 'skiprope']\n",
    "volume_perBox = [0.0070, 0.0045, 0.0098, 0.0200, 0.0055]\n",
    "\n",
    "volumes_perStates = {}\n",
    "\n",
    "for state, products_dict in dc_product_demand.items():\n",
    "    volumes_perStates[state] = {}\n",
    "    for i, product in enumerate(products):\n",
    "        num_boxes = products_dict[product]\n",
    "        volume = volume_perBox[i]\n",
    "        volumes_perStates[state][product] = np.ceil(num_boxes * volume)\n",
    "\n",
    "\n",
    "print(volumes_perStates)"
   ]
  },
  {
   "cell_type": "code",
   "execution_count": 71,
   "metadata": {},
   "outputs": [
    {
     "ename": "KeyboardInterrupt",
     "evalue": "",
     "output_type": "error",
     "traceback": [
      "\u001b[1;31m---------------------------------------------------------------------------\u001b[0m",
      "\u001b[1;31mKeyboardInterrupt\u001b[0m                         Traceback (most recent call last)",
      "Cell \u001b[1;32mIn[71], line 22\u001b[0m\n\u001b[0;32m     19\u001b[0m total_costs \u001b[38;5;241m=\u001b[39m {}\n\u001b[0;32m     21\u001b[0m \u001b[38;5;66;03m# Calculate the total volume for each state\u001b[39;00m\n\u001b[1;32m---> 22\u001b[0m \u001b[38;5;28;01mfor\u001b[39;00m state, items \u001b[38;5;129;01min\u001b[39;00m \u001b[43mvolumes_perStates\u001b[49m\u001b[38;5;241m.\u001b[39mitems():\n\u001b[0;32m     23\u001b[0m     total_sum \u001b[38;5;241m=\u001b[39m \u001b[38;5;28msum\u001b[39m(items\u001b[38;5;241m.\u001b[39mvalues())\n\u001b[0;32m     24\u001b[0m     total_sums[state] \u001b[38;5;241m=\u001b[39m total_sum\n",
      "Cell \u001b[1;32mIn[71], line 22\u001b[0m\n\u001b[0;32m     19\u001b[0m total_costs \u001b[38;5;241m=\u001b[39m {}\n\u001b[0;32m     21\u001b[0m \u001b[38;5;66;03m# Calculate the total volume for each state\u001b[39;00m\n\u001b[1;32m---> 22\u001b[0m \u001b[38;5;28;01mfor\u001b[39;00m state, items \u001b[38;5;129;01min\u001b[39;00m \u001b[43mvolumes_perStates\u001b[49m\u001b[38;5;241m.\u001b[39mitems():\n\u001b[0;32m     23\u001b[0m     total_sum \u001b[38;5;241m=\u001b[39m \u001b[38;5;28msum\u001b[39m(items\u001b[38;5;241m.\u001b[39mvalues())\n\u001b[0;32m     24\u001b[0m     total_sums[state] \u001b[38;5;241m=\u001b[39m total_sum\n",
      "File \u001b[1;32m_pydevd_bundle/pydevd_cython.pyx:1457\u001b[0m, in \u001b[0;36m_pydevd_bundle.pydevd_cython.SafeCallWrapper.__call__\u001b[1;34m()\u001b[0m\n",
      "File \u001b[1;32m_pydevd_bundle/pydevd_cython.pyx:701\u001b[0m, in \u001b[0;36m_pydevd_bundle.pydevd_cython.PyDBFrame.trace_dispatch\u001b[1;34m()\u001b[0m\n",
      "File \u001b[1;32m_pydevd_bundle/pydevd_cython.pyx:1152\u001b[0m, in \u001b[0;36m_pydevd_bundle.pydevd_cython.PyDBFrame.trace_dispatch\u001b[1;34m()\u001b[0m\n",
      "File \u001b[1;32m_pydevd_bundle/pydevd_cython.pyx:1135\u001b[0m, in \u001b[0;36m_pydevd_bundle.pydevd_cython.PyDBFrame.trace_dispatch\u001b[1;34m()\u001b[0m\n",
      "File \u001b[1;32m_pydevd_bundle/pydevd_cython.pyx:312\u001b[0m, in \u001b[0;36m_pydevd_bundle.pydevd_cython.PyDBFrame.do_wait_suspend\u001b[1;34m()\u001b[0m\n",
      "File \u001b[1;32m~\\AppData\\Roaming\\Python\\Python311\\site-packages\\debugpy\\_vendored\\pydevd\\pydevd.py:2070\u001b[0m, in \u001b[0;36mPyDB.do_wait_suspend\u001b[1;34m(self, thread, frame, event, arg, exception_type)\u001b[0m\n\u001b[0;32m   2067\u001b[0m             from_this_thread\u001b[38;5;241m.\u001b[39mappend(frame_custom_thread_id)\n\u001b[0;32m   2069\u001b[0m     \u001b[38;5;28;01mwith\u001b[39;00m \u001b[38;5;28mself\u001b[39m\u001b[38;5;241m.\u001b[39m_threads_suspended_single_notification\u001b[38;5;241m.\u001b[39mnotify_thread_suspended(thread_id, thread, stop_reason):\n\u001b[1;32m-> 2070\u001b[0m         keep_suspended \u001b[38;5;241m=\u001b[39m \u001b[38;5;28;43mself\u001b[39;49m\u001b[38;5;241;43m.\u001b[39;49m\u001b[43m_do_wait_suspend\u001b[49m\u001b[43m(\u001b[49m\u001b[43mthread\u001b[49m\u001b[43m,\u001b[49m\u001b[43m \u001b[49m\u001b[43mframe\u001b[49m\u001b[43m,\u001b[49m\u001b[43m \u001b[49m\u001b[43mevent\u001b[49m\u001b[43m,\u001b[49m\u001b[43m \u001b[49m\u001b[43marg\u001b[49m\u001b[43m,\u001b[49m\u001b[43m \u001b[49m\u001b[43msuspend_type\u001b[49m\u001b[43m,\u001b[49m\u001b[43m \u001b[49m\u001b[43mfrom_this_thread\u001b[49m\u001b[43m,\u001b[49m\u001b[43m \u001b[49m\u001b[43mframes_tracker\u001b[49m\u001b[43m)\u001b[49m\n\u001b[0;32m   2072\u001b[0m frames_list \u001b[38;5;241m=\u001b[39m \u001b[38;5;28;01mNone\u001b[39;00m\n\u001b[0;32m   2074\u001b[0m \u001b[38;5;28;01mif\u001b[39;00m keep_suspended:\n\u001b[0;32m   2075\u001b[0m     \u001b[38;5;66;03m# This means that we should pause again after a set next statement.\u001b[39;00m\n",
      "File \u001b[1;32m~\\AppData\\Roaming\\Python\\Python311\\site-packages\\debugpy\\_vendored\\pydevd\\pydevd.py:2106\u001b[0m, in \u001b[0;36mPyDB._do_wait_suspend\u001b[1;34m(self, thread, frame, event, arg, suspend_type, from_this_thread, frames_tracker)\u001b[0m\n\u001b[0;32m   2103\u001b[0m         \u001b[38;5;28mself\u001b[39m\u001b[38;5;241m.\u001b[39m_call_input_hook()\n\u001b[0;32m   2105\u001b[0m     \u001b[38;5;28mself\u001b[39m\u001b[38;5;241m.\u001b[39mprocess_internal_commands()\n\u001b[1;32m-> 2106\u001b[0m     time\u001b[38;5;241m.\u001b[39msleep(\u001b[38;5;241m0.01\u001b[39m)\n\u001b[0;32m   2108\u001b[0m \u001b[38;5;28mself\u001b[39m\u001b[38;5;241m.\u001b[39mcancel_async_evaluation(get_current_thread_id(thread), \u001b[38;5;28mstr\u001b[39m(\u001b[38;5;28mid\u001b[39m(frame)))\n\u001b[0;32m   2110\u001b[0m \u001b[38;5;66;03m# process any stepping instructions\u001b[39;00m\n",
      "\u001b[1;31mKeyboardInterrupt\u001b[0m: "
     ]
    }
   ],
   "source": [
    "\n",
    "# Cost per cubic meter per month for each state\n",
    "cost_per_m3 = {\n",
    "    'NY': 60,\n",
    "    'ND': 10,\n",
    "    'IL': 27,\n",
    "    'TX': 19,\n",
    "    'MO': 15,\n",
    "    'CA': 40,\n",
    "    'TN': 10,\n",
    "    'PA': 30,\n",
    "    'UT': 20,\n",
    "    'WA': 29\n",
    "}\n",
    "\n",
    "# Initialize a dictionary to store the total sum for each state\n",
    "total_sums = {}\n",
    "# Initialize a dictionary to store the total cost for each state\n",
    "total_costs = {}\n",
    "\n",
    "# Calculate the total volume for each state\n",
    "for state, items in volumes_perStates.items():\n",
    "    total_sum = sum(items.values())\n",
    "    total_sums[state] = total_sum\n",
    "\n",
    "# Calculate the total cost for each state\n",
    "for state, total_sum in total_sums.items():\n",
    "    if state in cost_per_m3:\n",
    "        total_costs[state] = total_sum * cost_per_m3[state]\n",
    "\n",
    "total_cost_sum = sum(total_costs.values())\n",
    "print(total_cost_sum)\n",
    "\n",
    "print(warehousing_storageCost['DC'])\n",
    "print(cost_per_m3)"
   ]
  },
  {
   "cell_type": "code",
   "execution_count": null,
   "metadata": {},
   "outputs": [],
   "source": []
  }
 ],
 "metadata": {
  "kernelspec": {
   "display_name": "Python 3",
   "language": "python",
   "name": "python3"
  },
  "language_info": {
   "codemirror_mode": {
    "name": "ipython",
    "version": 3
   },
   "file_extension": ".py",
   "mimetype": "text/x-python",
   "name": "python",
   "nbconvert_exporter": "python",
   "pygments_lexer": "ipython3",
   "version": "3.11.5"
  }
 },
 "nbformat": 4,
 "nbformat_minor": 2
}
