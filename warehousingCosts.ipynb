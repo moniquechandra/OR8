{
 "cells": [
  {
   "cell_type": "code",
   "execution_count": 4,
   "metadata": {},
   "outputs": [],
   "source": [
    "import numpy as np\n",
    "import pandas as pd\n",
    "import warnings\n",
    "warnings.filterwarnings('ignore')\n",
    "\n",
    "from prod_details import product_demand_per_dc, handling_out_costs_per_dc\n",
    "from data import as_is_dc"
   ]
  },
  {
   "cell_type": "code",
   "execution_count": 5,
   "metadata": {},
   "outputs": [],
   "source": [
    "# Load the data\n",
    "warehousing_handlingOut_data = pd.read_excel('Warehousing.xlsx', sheet_name='Handling Out')\n",
    "warehousing_handlingIn_data = pd.read_excel('Warehousing.xlsx', sheet_name='Handling In')\n",
    "warehousing_storageCost = pd.read_excel('Warehousing.xlsx', sheet_name='Storage')\n",
    "demand_data = pd.read_excel('Demand Forecast.xlsx')\n",
    "\n",
    "warehousing_handlingOut_data.index = warehousing_handlingOut_data.DC\n",
    "warehousing_handlingIn_data.index = warehousing_handlingOut_data.DC\n",
    "warehousing_storageCost.index = warehousing_storageCost.DC\n",
    "demand_data.index = demand_data.state"
   ]
  },
  {
   "cell_type": "code",
   "execution_count": 6,
   "metadata": {},
   "outputs": [
    {
     "data": {
      "text/plain": [
       "{'NY': {'blender': 226319,\n",
       "  'swing': 6468,\n",
       "  'chair': 161655,\n",
       "  'scooter': 3233,\n",
       "  'skiprope': 969935},\n",
       " 'ND': {'blender': 31949,\n",
       "  'swing': 913,\n",
       "  'chair': 22820,\n",
       "  'scooter': 22832,\n",
       "  'skiprope': 136921},\n",
       " 'IL': {'blender': 271812,\n",
       "  'swing': 7766,\n",
       "  'chair': 194150,\n",
       "  'scooter': 3884,\n",
       "  'skiprope': 1164904},\n",
       " 'TN': {'blender': 216583,\n",
       "  'swing': 6188,\n",
       "  'chair': 154702,\n",
       "  'scooter': 3095,\n",
       "  'skiprope': 928213},\n",
       " 'WA': {'blender': 51437,\n",
       "  'swing': 1470,\n",
       "  'chair': 36741,\n",
       "  'scooter': 735,\n",
       "  'skiprope': 220442},\n",
       " 'TX': {'blender': 190768,\n",
       "  'swing': 5451,\n",
       "  'chair': 136263,\n",
       "  'scooter': 2725,\n",
       "  'skiprope': 817575},\n",
       " 'UT': {'blender': 179502,\n",
       "  'swing': 5129,\n",
       "  'chair': 128215,\n",
       "  'scooter': 2564,\n",
       "  'skiprope': 769295}}"
      ]
     },
     "execution_count": 6,
     "metadata": {},
     "output_type": "execute_result"
    }
   ],
   "source": [
    "# Can be deleted if it is not too necessary\n",
    "dc_product_demand = product_demand_per_dc(as_is_dc, demand_data)\n",
    "dc_product_demand"
   ]
  },
  {
   "cell_type": "code",
   "execution_count": 7,
   "metadata": {},
   "outputs": [
    {
     "name": "stdout",
     "output_type": "stream",
     "text": [
      "{'NY': {'blender': 1585.0, 'swing': 30.0, 'chair': 1585.0, 'scooter': 65.0, 'skiprope': 5335.0}, 'ND': {'blender': 224.0, 'swing': 5.0, 'chair': 224.0, 'scooter': 457.0, 'skiprope': 754.0}, 'IL': {'blender': 1903.0, 'swing': 35.0, 'chair': 1903.0, 'scooter': 78.0, 'skiprope': 6407.0}, 'TN': {'blender': 1517.0, 'swing': 28.0, 'chair': 1517.0, 'scooter': 62.0, 'skiprope': 5106.0}, 'WA': {'blender': 361.0, 'swing': 7.0, 'chair': 361.0, 'scooter': 15.0, 'skiprope': 1213.0}, 'TX': {'blender': 1336.0, 'swing': 25.0, 'chair': 1336.0, 'scooter': 55.0, 'skiprope': 4497.0}, 'UT': {'blender': 1257.0, 'swing': 24.0, 'chair': 1257.0, 'scooter': 52.0, 'skiprope': 4232.0}}\n"
     ]
    }
   ],
   "source": [
    "products = ['blender', 'swing', 'chair', 'scooter', 'skiprope']\n",
    "volume_perBox = [0.0070, 0.0045, 0.0098, 0.0200, 0.0055]\n",
    "dc_product_demand = product_demand_per_dc(as_is_dc, demand_data)\n",
    "\n",
    "volume_per_dc = {}\n",
    "\n",
    "for state, products_dict in dc_product_demand.items():\n",
    "    volume_per_dc[state] = {}\n",
    "    for i, product in enumerate(products):\n",
    "        num_boxes = products_dict[product]\n",
    "        volume = volume_perBox[i]\n",
    "        volume_per_dc[state][product] = np.ceil(num_boxes * volume)\n",
    "\n",
    "print(volume_per_dc)"
   ]
  },
  {
   "cell_type": "code",
   "execution_count": 8,
   "metadata": {},
   "outputs": [
    {
     "name": "stdout",
     "output_type": "stream",
     "text": [
      "1224666.0\n"
     ]
    }
   ],
   "source": [
    "# Storage Costs (per cubic meter per month for each state)\n",
    "\n",
    "\n",
    "total_storage_costs = {}\n",
    "# Calculate the total costs for each state\n",
    "for state, items in volume_per_dc.items():\n",
    "    total_sum = sum(items.values())\n",
    "    if state in warehousing_storageCost.index:\n",
    "        cost_per_m3 = warehousing_storageCost.loc[state, 'storage_costs_m3_month']\n",
    "        total_storage_costs[state] = total_sum * cost_per_m3\n",
    "\n",
    "total_warehousing_costs = sum(total_storage_costs.values())\n",
    "print(total_warehousing_costs)"
   ]
  },
  {
   "cell_type": "code",
   "execution_count": null,
   "metadata": {},
   "outputs": [],
   "source": []
  }
 ],
 "metadata": {
  "kernelspec": {
   "display_name": "Python 3",
   "language": "python",
   "name": "python3"
  },
  "language_info": {
   "codemirror_mode": {
    "name": "ipython",
    "version": 3
   },
   "file_extension": ".py",
   "mimetype": "text/x-python",
   "name": "python",
   "nbconvert_exporter": "python",
   "pygments_lexer": "ipython3",
   "version": "3.11.9"
  }
 },
 "nbformat": 4,
 "nbformat_minor": 2
}
