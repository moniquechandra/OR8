{
 "cells": [
  {
   "cell_type": "code",
   "execution_count": 10,
   "id": "4109882e",
   "metadata": {},
   "outputs": [],
   "source": [
    "import warnings\n",
    "warnings.filterwarnings('ignore')\n",
    "from product_details import Parameters\n",
    "pm = Parameters()\n",
    "from greedyConstructive import dc_greedy_constructive_search\n",
    "\n",
    "def calculate_costs(dc, as_is_dc=False):\n",
    "    all_costs = pm.total_costs(dc)\n",
    "\n",
    "    if as_is_dc:\n",
    "        all_costs = pm.total_costs(dc, as_is_dc)\n",
    "        \n",
    "    print('Total Obj. Value:', round(all_costs[0]))\n",
    "    print('Total Costs:', round(all_costs[1]))\n",
    "    print('Total Inbound Costs:', round(all_costs[2]))\n",
    "    print('Total Handling In Costs:', round(all_costs[3]))\n",
    "    print('Total Storage Costs:', round(all_costs[4]))\n",
    "    print('Total Handling Out Costs:', round(all_costs[5]))\n",
    "    print('Total Outbound Costs:', round(all_costs[6]))\n",
    "    print('Total Operational Costs:', round(all_costs[7]))\n",
    "    print('Total Gas Emissions (Inbound):', round(all_costs[8]))\n"
   ]
  },
  {
   "cell_type": "code",
   "execution_count": 11,
   "id": "027d6bfe",
   "metadata": {},
   "outputs": [
    {
     "name": "stdout",
     "output_type": "stream",
     "text": [
      "Total Obj. Value: 12913202\n",
      "Total Costs: 11363602\n",
      "Total Inbound Costs: 1124750\n",
      "Total Handling In Costs: 55780\n",
      "Total Storage Costs: 1341612\n",
      "Total Handling Out Costs: 686104\n",
      "Total Outbound Costs: 1155356\n",
      "Total Operational Costs: 7000000\n",
      "Total Gas Emissions (Inbound): 1549600\n"
     ]
    }
   ],
   "source": [
    "# As-Is Situation\n",
    "\n",
    "# Define the as-is DC allocation. The keys are the DC, the values are the states where the corresponding DC's customers are.\n",
    "as_is_dc = {\n",
    "    \"NY\": ['CT', 'DC', 'DE', 'MA', 'MD', 'ME', 'NH', 'NJ', 'NY', 'PA', 'RI', 'VT'],\n",
    "    \"ND\": ['MN', 'MT', 'ND', 'SD', 'WY'],\n",
    "    \"IL\": ['HI', 'IA', 'IL', 'IN', 'KS', 'KY', 'MI', 'MO', 'NE', 'OH', 'VA', 'WI', 'WV'],\n",
    "    \"TN\": ['AL', 'FL', 'GA', 'NC', 'SC', 'TN'],\n",
    "    \"WA\": ['AK', 'ID', 'OR', 'WA'],\n",
    "    \"TX\": ['AR', 'AZ', 'LA', 'MS', 'NM', 'OK', 'TX'],\n",
    "    \"UT\": ['CA', 'CO', 'NV', 'UT']\n",
    "}\n",
    "\n",
    "calculate_costs(as_is_dc)"
   ]
  },
  {
   "cell_type": "code",
   "execution_count": 13,
   "id": "9973ff37",
   "metadata": {},
   "outputs": [
    {
     "name": "stdout",
     "output_type": "stream",
     "text": [
      "Total Obj. Value: 17138120\n",
      "Total Costs: 15615620\n",
      "Total Inbound Costs: 1215700\n",
      "Total Handling In Costs: 60340\n",
      "Total Storage Costs: 1278576\n",
      "Total Handling Out Costs: 697577\n",
      "Total Outbound Costs: 933427\n",
      "Total Operational Costs: 11430000\n",
      "Total Gas Emissions (Inbound): 1522500\n"
     ]
    }
   ],
   "source": [
    "# Algorithm 1: Greedy Constructive Search\n",
    "# Allocate dc based on the distance/costs greedily \n",
    "greedy_dc_allocation = dc_greedy_constructive_search(open_dc=True)\n",
    "\n",
    "calculate_costs(greedy_dc_allocation, as_is_dc)\n",
    "# Turns out, even though the shipping costs are lower,\n",
    "# the total outbound costs are relatively higher since the operating and opening costs are skyrocketed."
   ]
  },
  {
   "cell_type": "code",
   "execution_count": 21,
   "id": "b2fccc6c",
   "metadata": {},
   "outputs": [
    {
     "name": "stdout",
     "output_type": "stream",
     "text": [
      "Total Obj. Value: 12535644\n",
      "Total Costs: 10959444\n",
      "Total Inbound Costs: 1128000\n",
      "Total Handling In Costs: 47640\n",
      "Total Storage Costs: 1116156\n",
      "Total Handling Out Costs: 710385\n",
      "Total Outbound Costs: 957264\n",
      "Total Operational Costs: 7000000\n",
      "Total Gas Emissions (Inbound): 1576200\n",
      "{'WA': ['AK', 'ID', 'OR', 'WA'], 'TN': ['AL', 'AR', 'FL', 'GA', 'KS', 'KY', 'MO', 'MS', 'NC', 'OH', 'PA', 'SC', 'TN', 'VA', 'WV'], 'UT': ['AZ', 'CA', 'CO', 'NV', 'UT', 'WY'], 'NY': ['CT', 'DE', 'HI', 'MA', 'MD', 'ME', 'NH', 'NJ', 'NY', 'RI', 'VT', 'DC'], 'ND': ['IA', 'IN', 'MN', 'MT', 'ND', 'NE', 'SD', 'WI'], 'IL': ['IL', 'MI'], 'TX': ['LA', 'NM', 'OK', 'TX']}\n"
     ]
    }
   ],
   "source": [
    "# Algorithm 2: Greedy Constructive Heuristics\n",
    "# Now, knowing that opening and operating new DC can be costly, we apply the same algorithm without opening a new DC.\n",
    "greedy_dc_allocation = dc_greedy_constructive_search(open_dc=False)\n",
    "calculate_costs(greedy_dc_allocation, as_is_dc)\n",
    "print(greedy_dc_allocation)\n",
    "# The shipping costs are lowered again, but the handling costs are increasing slightly.\n",
    "# It resulted in a less significant decrease."
   ]
  },
  {
   "cell_type": "code",
   "execution_count": 20,
   "id": "536f07af",
   "metadata": {},
   "outputs": [
    {
     "name": "stdout",
     "output_type": "stream",
     "text": [
      "Total Obj. Value: 11649452\n",
      "Total Costs: 10073652\n",
      "Total Inbound Costs: 1107050\n",
      "Total Handling In Costs: 48950\n",
      "Total Storage Costs: 1157412\n",
      "Total Handling Out Costs: 710973\n",
      "Total Outbound Costs: 1024267\n",
      "Total Operational Costs: 6025000\n",
      "Total Gas Emissions (Inbound): 1575800\n",
      "{'UT': ['AK', 'AZ', 'CA', 'CO', 'ID', 'MT', 'NV', 'OR', 'UT', 'WA', 'WY'], 'TN': ['AL', 'AR', 'FL', 'GA', 'KS', 'KY', 'MO', 'MS', 'NC', 'NE', 'OH', 'PA', 'SC', 'TN', 'VA', 'WV'], 'NY': ['CT', 'DE', 'HI', 'MA', 'MD', 'ME', 'NH', 'NJ', 'NY', 'RI', 'VT', 'DC'], 'IL': ['IA', 'IL', 'IN', 'MI', 'MN', 'ND', 'SD', 'WI'], 'TX': ['LA', 'NM', 'OK', 'TX']}\n"
     ]
    }
   ],
   "source": [
    "# Algorithm 3: Greedy Constructive Heuristics\n",
    "# Closing certain DCs that has minimal closing costs.\n",
    "\n",
    "greedy_dc_allocation = {}\n",
    "outbound_data = pm.outbound_data\n",
    "as_is = list(as_is_dc.keys())\n",
    "as_is.remove('WA')\n",
    "as_is.remove('ND')\n",
    "\n",
    "for state in outbound_data.index:\n",
    "    current_dc = outbound_data[as_is]\n",
    "    best_dc = (current_dc.loc[state]).idxmin()\n",
    "    \n",
    "    # if best_dc not in as_is:\n",
    "    #     print(best_dc)\n",
    "    \n",
    "    if best_dc not in greedy_dc_allocation:\n",
    "        greedy_dc_allocation[best_dc] = [state]\n",
    "    elif isinstance(greedy_dc_allocation[best_dc], list):\n",
    "        greedy_dc_allocation[best_dc].append(state)\n",
    "    else:\n",
    "        greedy_dc_allocation[best_dc] = [greedy_dc_allocation[best_dc], state]\n",
    "\n",
    "calculate_costs(greedy_dc_allocation, as_is_dc)\n",
    "print(greedy_dc_allocation)"
   ]
  },
  {
   "cell_type": "code",
   "execution_count": 22,
   "id": "062e1dca",
   "metadata": {},
   "outputs": [
    {
     "name": "stdout",
     "output_type": "stream",
     "text": [
      "Total Obj. Value: 11858602\n",
      "Total Costs: 10330102\n",
      "Total Inbound Costs: 1146000\n",
      "Total Handling In Costs: 43630\n",
      "Total Storage Costs: 828036\n",
      "Total Handling Out Costs: 735225\n",
      "Total Outbound Costs: 1152211\n",
      "Total Operational Costs: 6425000\n",
      "Total Gas Emissions (Inbound): 1528500\n"
     ]
    }
   ],
   "source": [
    "# Best solution (Simulated Annealing)\n",
    "to_be = {'WA': ['AK', 'MT', 'WA'], 'TN': ['IN', 'MI', 'MS', 'OH', 'VA', 'MA', 'TN', 'PA', 'NJ', 'NH', 'KS', 'KY', 'DE', 'GA', 'AR', 'MO', 'MD', 'AL', 'NC', 'IL', 'UT', 'SC', 'WI', 'WV', 'CT', 'IA', 'ND', 'MN', 'SD', 'FL'], 'TX': ['TX', 'LA', 'OK'], 'UT': ['NM', 'AZ', 'OR', 'NE', 'NV', 'HI', 'CA', 'ID', 'CO', 'WY'], 'CA': [], 'NY': ['NY', 'RI'], 'PA': [], 'KS': [], 'IL': ['DC', 'VT', 'ME'], 'ND': []}\n",
    "calculate_costs(to_be, as_is_dc)\n",
    "\n",
    "# In terms of costs, the solution from Greedy Constructive Search is more efficient.\n",
    "# But the total gas emission is better with Simulated Annealing."
   ]
  },
  {
   "cell_type": "code",
   "execution_count": 24,
   "id": "c1320a5d",
   "metadata": {},
   "outputs": [
    {
     "name": "stdout",
     "output_type": "stream",
     "text": [
      "Total Obj. Value: 12535644\n",
      "Total Costs: 10959444\n",
      "Total Inbound Costs: 1128000\n",
      "Total Handling In Costs: 47640\n",
      "Total Storage Costs: 1116156\n",
      "Total Handling Out Costs: 710385\n",
      "Total Outbound Costs: 957264\n",
      "Total Operational Costs: 7000000\n",
      "Total Gas Emissions (Inbound): 1576200\n"
     ]
    }
   ],
   "source": [
    "# Best solution (Tabu Search)\n",
    "dc = {'WA': ['AK', 'ID', 'OR', 'WA'], 'ND': ['IA', 'IN', 'MN', 'MT', 'ND', 'NE', 'SD', 'WI'], 'IL': ['IL', 'MI'], 'TX': ['LA', 'NM', 'OK', 'TX'], 'TN': ['AL', 'AR', 'FL', 'GA', 'KS', 'KY', 'MO', 'MS', 'NC', 'OH', 'PA', 'SC', 'TN', 'VA', 'WV'], 'UT': ['AZ', 'CA', 'CO', 'NV', 'UT', 'WY'], 'NY': ['CT', 'DE', 'HI', 'MA', 'MD', 'ME', 'NH', 'NJ', 'NY', 'RI', 'VT', 'DC']}\n",
    "calculate_costs(dc, as_is_dc)"
   ]
  },
  {
   "cell_type": "code",
   "execution_count": null,
   "id": "15ea15bb",
   "metadata": {},
   "outputs": [],
   "source": []
  }
 ],
 "metadata": {
  "kernelspec": {
   "display_name": "Python 3 (ipykernel)",
   "language": "python",
   "name": "python3"
  },
  "language_info": {
   "codemirror_mode": {
    "name": "ipython",
    "version": 3
   },
   "file_extension": ".py",
   "mimetype": "text/x-python",
   "name": "python",
   "nbconvert_exporter": "python",
   "pygments_lexer": "ipython3",
   "version": "3.11.9"
  }
 },
 "nbformat": 4,
 "nbformat_minor": 5
}
