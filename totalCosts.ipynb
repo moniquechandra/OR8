{
 "cells": [
  {
   "cell_type": "code",
   "execution_count": 1,
   "id": "4109882e",
   "metadata": {},
   "outputs": [],
   "source": [
    "import pandas as pd\n",
    "import warnings\n",
    "warnings.filterwarnings('ignore')\n",
    "from prod_details import product_demand_per_dc, total_operational_costs, shipping_costs_per_dc\n",
    "\n",
    "# from prod_details import product_demand_per_dc, handling_out_costs_per_dc, shipping_costs_per_dc"
   ]
  },
  {
   "cell_type": "code",
   "execution_count": 2,
   "id": "441e6bb3",
   "metadata": {},
   "outputs": [
    {
     "name": "stdout",
     "output_type": "stream",
     "text": [
      "importing Jupyter notebook from warehousingCosts.ipynb\n",
      "Storage Costs: 1224181.7518\n",
      "Total Handling In Costs: 180870\n",
      "Total Handling Out Costs: 1804220.62\n",
      "Total Warehousing Costs: 3209272.3718\n"
     ]
    }
   ],
   "source": [
    "# Import warehousingCosts\n",
    "import import_ipynb\n",
    "from warehousingCosts import Warehousing\n",
    "w = Warehousing()\n",
    "storage_cost = w.storage\n",
    "handling_in_cost = w.handling_in\n",
    "handling_out_cost = w.handling_out\n",
    "total_warehousing_costs = w.warehousing"
   ]
  },
  {
   "cell_type": "code",
   "execution_count": 5,
   "id": "a6e1352c",
   "metadata": {},
   "outputs": [],
   "source": [
    "# Load the data, then define the index of some data to simplify future data indexing.\n",
    "\n",
    "outbound_data = pd.read_excel(\"Outbound.xlsx\")\n",
    "outbound_data.index = outbound_data.State\n",
    "outbound_data = outbound_data.drop(['State', 'Small shipment'], axis=1)\n",
    "\n",
    "demand_data = pd.read_excel('Demand Forecast.xlsx')\n",
    "demand_data.index = demand_data.state\n",
    "\n",
    "unit_data = pd.read_excel('Product Data per State.xlsx')\n",
    "oc_data = pd.read_excel('Opening-Closing Costs.xlsx')\n",
    "unit_data.index = unit_data.state\n",
    "oc_data.index = oc_data.State\n",
    "\n",
    "costs_data = pd.read_excel('Opening-Closing Costs.xlsx')\n",
    "costs_data.index = costs_data.State\n",
    "\n",
    "product_data = pd.read_excel('Product Master Data.xlsx')\n",
    "product_data.index = product_data.COMM_NAME\n"
   ]
  },
  {
   "cell_type": "code",
   "execution_count": 6,
   "id": "66efb75e",
   "metadata": {},
   "outputs": [],
   "source": [
    "# As-Is situation\n",
    "\n",
    "def total_costs(dc_allocation, as_is_dc=False):\n",
    "    dc_product_demand_container = product_demand_per_dc(dc_allocation, demand_data, product_data, False)\n",
    "    dc_outbound_costs = sum(shipping_costs_per_dc(dc_allocation, demand_data, outbound_data))\n",
    "    op_costs = total_operational_costs(dc_allocation, as_is_dc, costs_data)\n",
    "\n",
    "    total_costs = total_warehousing_costs + dc_outbound_costs + op_costs\n",
    "    print('Total Outbound Costs:', dc_outbound_costs)\n",
    "    print('Total operational Costs:', op_costs)\n",
    "    print('Total Costs:', total_costs)\n",
    "    \n",
    "    \n",
    "    return total_costs"
   ]
  },
  {
   "cell_type": "code",
   "execution_count": 7,
   "id": "027d6bfe",
   "metadata": {},
   "outputs": [
    {
     "name": "stdout",
     "output_type": "stream",
     "text": [
      "Total Outbound Costs: 1872998.2597681799\n",
      "Total operational Costs: 7000000\n",
      "Total Costs: 12082270.631568179\n"
     ]
    },
    {
     "data": {
      "text/plain": [
       "12082270.631568179"
      ]
     },
     "execution_count": 7,
     "metadata": {},
     "output_type": "execute_result"
    }
   ],
   "source": [
    "# As-Is Situation\n",
    "\n",
    "# Define the as-is DC allocation. The keys are the DC, the values are the states where the corresponding DC's customers are.\n",
    "as_is_dc = {\n",
    "    \"NY\": ['CT', 'DC', 'DE', 'MA', 'MD', 'ME', 'NH', 'NJ', 'NY', 'PA', 'RI', 'VT'],\n",
    "    \"ND\": ['MN', 'MT', 'ND', 'SD', 'WY'],\n",
    "    \"IL\": ['HI', 'IA', 'IL', 'IN', 'KS', 'KY', 'MI', 'MO', 'NE', 'OH', 'VA', 'WI', 'WV'],\n",
    "    \"TN\": ['AL', 'FL', 'GA', 'NC', 'SC', 'TN'],\n",
    "    \"WA\": ['AK', 'ID', 'OR', 'WA'],\n",
    "    \"TX\": ['AR', 'AZ', 'LA', 'MS', 'NM', 'OK', 'TX'],\n",
    "    \"UT\": ['CA', 'CO', 'NV', 'UT']\n",
    "}\n",
    "\n",
    "# Calculate the total outbound_costs\n",
    "total_costs(as_is_dc)\n"
   ]
  },
  {
   "cell_type": "code",
   "execution_count": 8,
   "id": "9973ff37",
   "metadata": {},
   "outputs": [
    {
     "name": "stdout",
     "output_type": "stream",
     "text": [
      "Total Outbound Costs: 1673002.2092817298\n",
      "Total operational Costs: 10000000\n",
      "Total Costs: 14882274.58108173\n"
     ]
    },
    {
     "data": {
      "text/plain": [
       "11430000.0"
      ]
     },
     "execution_count": 8,
     "metadata": {},
     "output_type": "execute_result"
    }
   ],
   "source": [
    "# Algorithm 1: Greedy Constructive Search\n",
    "# Allocate dc based on the distance/costs greedily \n",
    "greedy_dc_allocation = {}\n",
    "for state in outbound_data.index:\n",
    "    best_dc = (outbound_data.loc[state]).idxmin()\n",
    "    \n",
    "    if best_dc not in greedy_dc_allocation:\n",
    "        greedy_dc_allocation[best_dc] = [state]\n",
    "    elif isinstance(greedy_dc_allocation[best_dc], list):\n",
    "        greedy_dc_allocation[best_dc].append(state)\n",
    "    else:\n",
    "        greedy_dc_allocation[best_dc] = [greedy_dc_allocation[best_dc], state]\n",
    "\n",
    "# Calculate the total costs\n",
    "total_costs(greedy_dc_allocation)\n",
    "total_operational_costs(greedy_dc_allocation, as_is_dc, costs_data)\n",
    "\n",
    "# Turns out, even though the shipping costs are lower,\n",
    "# the total outbound costs are relatively higher since the operating and opening costs are skyrocketed."
   ]
  },
  {
   "cell_type": "code",
   "execution_count": 9,
   "id": "b2fccc6c",
   "metadata": {},
   "outputs": [
    {
     "name": "stdout",
     "output_type": "stream",
     "text": [
      "{'WA': ['AK', 'ID', 'OR', 'WA'], 'TN': ['AL', 'AR', 'FL', 'GA', 'KS', 'KY', 'MO', 'MS', 'NC', 'OH', 'PA', 'SC', 'TN', 'VA', 'WV'], 'UT': ['AZ', 'CA', 'CO', 'NV', 'UT', 'WY'], 'NY': ['CT', 'DE', 'HI', 'MA', 'MD', 'ME', 'NH', 'NJ', 'NY', 'RI', 'VT', 'DC'], 'ND': ['IA', 'IN', 'MN', 'MT', 'ND', 'NE', 'SD', 'WI'], 'IL': ['IL', 'MI'], 'TX': ['LA', 'NM', 'OK', 'TX']}\n",
      "Total Outbound Costs: 1694474.33498175\n",
      "Total operational Costs: 7000000\n",
      "Total Costs: 11903746.706781749\n"
     ]
    },
    {
     "data": {
      "text/plain": [
       "7000000"
      ]
     },
     "execution_count": 9,
     "metadata": {},
     "output_type": "execute_result"
    }
   ],
   "source": [
    "# Algorithm 1b: Greedy Constructive Heuristics\n",
    "# Now, knowing that opening and operating new DC can be costly, we apply the same algorithm without opening a new DC.\n",
    "\n",
    "greedy_dc_allocation = {}\n",
    "for state in outbound_data.index:\n",
    "    current_dc = outbound_data[list(as_is_dc.keys())]\n",
    "    best_dc = (current_dc.loc[state]).idxmin()\n",
    "    if best_dc not in as_is_dc:\n",
    "        print(best_dc)\n",
    "    \n",
    "    if best_dc not in greedy_dc_allocation:\n",
    "        greedy_dc_allocation[best_dc] = [state]\n",
    "    elif isinstance(greedy_dc_allocation[best_dc], list):\n",
    "        greedy_dc_allocation[best_dc].append(state)\n",
    "    else:\n",
    "        greedy_dc_allocation[best_dc] = [greedy_dc_allocation[best_dc], state]\n",
    "\n",
    "print(greedy_dc_allocation)\n",
    "\n",
    "total_costs(greedy_dc_allocation)\n",
    "total_operational_costs(greedy_dc_allocation)\n",
    "\n",
    "# The shipping costs are lowered again, but the handling costs are increasing slightly.\n",
    "# It resulted in a less significant decrease."
   ]
  }
 ],
 "metadata": {
  "kernelspec": {
   "display_name": "Python 3 (ipykernel)",
   "language": "python",
   "name": "python3"
  },
  "language_info": {
   "codemirror_mode": {
    "name": "ipython",
    "version": 3
   },
   "file_extension": ".py",
   "mimetype": "text/x-python",
   "name": "python",
   "nbconvert_exporter": "python",
   "pygments_lexer": "ipython3",
   "version": "3.11.9"
  }
 },
 "nbformat": 4,
 "nbformat_minor": 5
}
