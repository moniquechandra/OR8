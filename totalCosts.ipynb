{
 "cells": [
  {
   "cell_type": "code",
   "execution_count": 1,
   "id": "4109882e",
   "metadata": {},
   "outputs": [],
   "source": [
    "import pandas as pd\n",
    "import random\n",
    "import warnings\n",
    "warnings.filterwarnings('ignore')\n",
    "from prod_details import Parameters\n",
    "pm = Parameters()\n"
   ]
  },
  {
   "cell_type": "code",
   "execution_count": 2,
   "id": "a6e1352c",
   "metadata": {},
   "outputs": [],
   "source": [
    "# Load the data, then define the index of some data to simplify future data indexing.\n",
    "\n",
    "outbound_data = pd.read_excel(\"Outbound.xlsx\")\n",
    "outbound_data.index = outbound_data.State\n",
    "outbound_data = outbound_data.drop(['State', 'Small shipment'], axis=1)\n",
    "\n",
    "demand_data = pd.read_excel('Demand Forecast.xlsx')\n",
    "demand_data.index = demand_data.state\n",
    "\n",
    "unit_data = pd.read_excel('Product Data per State.xlsx')\n",
    "oc_data = pd.read_excel('Opening-Closing Costs.xlsx')\n",
    "unit_data.index = unit_data.state\n",
    "oc_data.index = oc_data.State\n",
    "\n",
    "costs_data = pd.read_excel('Opening-Closing Costs.xlsx')\n",
    "costs_data.index = costs_data.State\n",
    "\n",
    "product_data = pd.read_excel('Product Master Data.xlsx')\n",
    "product_data.index = product_data.COMM_NAME\n",
    "\n",
    "warehousing_handlingOut_data = pd.read_excel('Warehousing.xlsx', sheet_name='Handling Out')\n",
    "warehousing_handlingIn_data = pd.read_excel('Warehousing.xlsx', sheet_name='Handling In')\n",
    "warehousing_storageCost = pd.read_excel('Warehousing.xlsx', sheet_name='Storage')\n",
    "\n",
    "warehousing_handlingOut_data.index = warehousing_handlingOut_data.DC\n",
    "warehousing_handlingIn_data.index = warehousing_handlingIn_data.DC\n",
    "warehousing_storageCost.index = warehousing_storageCost.DC\n"
   ]
  },
  {
   "cell_type": "code",
   "execution_count": 3,
   "id": "027d6bfe",
   "metadata": {},
   "outputs": [
    {
     "name": "stdout",
     "output_type": "stream",
     "text": [
      "Total Costs: 10224747\n",
      "Total Inbound Costs: 1124750\n",
      "Total Warehousing Costs: 2083496\n",
      "Total Outbound Costs: 1141251\n",
      "Total Operational Costs: 7000000\n"
     ]
    }
   ],
   "source": [
    "# As-Is Situation\n",
    "\n",
    "# Define the as-is DC allocation. The keys are the DC, the values are the states where the corresponding DC's customers are.\n",
    "as_is_dc = {\n",
    "    \"NY\": ['CT', 'DC', 'DE', 'MA', 'MD', 'ME', 'NH', 'NJ', 'NY', 'PA', 'RI', 'VT'],\n",
    "    \"ND\": ['MN', 'MT', 'ND', 'SD', 'WY'],\n",
    "    \"IL\": ['HI', 'IA', 'IL', 'IN', 'KS', 'KY', 'MI', 'MO', 'NE', 'OH', 'VA', 'WI', 'WV'],\n",
    "    \"TN\": ['AL', 'FL', 'GA', 'NC', 'SC', 'TN'],\n",
    "    \"WA\": ['AK', 'ID', 'OR', 'WA'],\n",
    "    \"TX\": ['AR', 'AZ', 'LA', 'MS', 'NM', 'OK', 'TX'],\n",
    "    \"UT\": ['CA', 'CO', 'NV', 'UT']\n",
    "}\n",
    "\n",
    "\n",
    "all_costs = pm.total_costs(as_is_dc)\n",
    "print('Total Costs:', round(all_costs[0]))\n",
    "print('Total Inbound Costs:', round(all_costs[1]))\n",
    "print('Total Warehousing Costs:', round(all_costs[2]))\n",
    "print('Total Outbound Costs:', round(all_costs[3]))\n",
    "print('Total Operational Costs:', round(all_costs[4]))\n",
    "# print(pm.handling_out_costs(as_is_dc, pm.unit_data, pm.warehousing_handlingOut_data))\n",
    "# dc_product_demand = pm.product_demand_per_dc(as_is_dc, pm.demand_data, pm.product_data)\n",
    "# dc_product_demand_container = pm.product_demand_per_dc(as_is_dc, pm.demand_data, pm.product_data, False)\n",
    "# vol = pm.volume_per_dc(dc_product_demand)\n",
    "# st = pm.storage_costs(vol, pm.warehousing_storageCost)\n",
    "# print(st)\n",
    "# print(pm.handling_in_costs(dc_product_demand_container, pm.warehousing_handlingIn_data))"
   ]
  },
  {
   "cell_type": "code",
   "execution_count": 4,
   "id": "459b4a83",
   "metadata": {},
   "outputs": [
    {
     "name": "stdout",
     "output_type": "stream",
     "text": [
      "importing Jupyter notebook from warehousingCosts.ipynb\n"
     ]
    }
   ],
   "source": [
    "# %run warehousingCosts.ipynb\n",
    "import import_ipynb\n",
    "from warehousingCosts import Warehousing\n",
    "wh = Warehousing(as_is_dc)"
   ]
  },
  {
   "cell_type": "code",
   "execution_count": 14,
   "id": "7dcba2c1",
   "metadata": {},
   "outputs": [
    {
     "data": {
      "text/plain": [
       "[10363761.617744341, 1124750, 1903790.55, 1459971.06774434, 7000000]"
      ]
     },
     "execution_count": 14,
     "metadata": {},
     "output_type": "execute_result"
    }
   ],
   "source": [
    "pm.total_costs({'WA': ['AK', 'ID', 'OR', 'WA'], 'ND': ['IL', 'MI'], 'IL': ['LA', 'NM', 'OK', 'TX'], 'TX': ['IA', 'IN', 'MN', 'MT', 'ND', 'NE', 'SD', 'WI'], 'TN': ['AL', 'AR', 'FL', 'GA', 'KS', 'KY', 'MO', 'MS', 'NC', 'OH', 'PA', 'SC', 'TN', 'VA', 'WV'], 'UT': ['AZ', 'CA', 'CO', 'NV', 'UT', 'WY'], 'NY': ['CT', 'DE', 'HI', 'MA', 'MD', 'ME', 'NH', 'NJ', 'NY', 'RI', 'VT', 'DC']}\n",
    ")"
   ]
  },
  {
   "cell_type": "code",
   "execution_count": 6,
   "id": "9973ff37",
   "metadata": {},
   "outputs": [
    {
     "name": "stdout",
     "output_type": "stream",
     "text": [
      "Total Costs: 12955815\n",
      "Total Inbound Costs: 1124750\n",
      "Total Warehousing Costs: 2036492\n",
      "Total Outbound Costs: 919322\n",
      "Total Operational Costs: 10000000\n",
      "{'WA': ['AK', 'ID', 'MT', 'OR', 'WA'], 'TN': ['AL', 'FL', 'GA', 'KY', 'MS', 'NC', 'OH', 'SC', 'VA', 'WV'], 'TX': ['AR', 'LA', 'NM', 'OK', 'TN', 'TX'], 'UT': ['AZ', 'CO', 'NV', 'UT', 'WY'], 'CA': ['CA'], 'NY': ['CT', 'DE', 'MA', 'ME', 'NH', 'NJ', 'NY', 'RI', 'VT'], 'PA': ['HI', 'MD', 'PA', 'DC'], 'KS': ['IA', 'KS', 'MO', 'NE'], 'IL': ['IL', 'MI', 'MN'], 'ND': ['IN', 'ND', 'SD', 'WI']}\n"
     ]
    }
   ],
   "source": [
    "# Algorithm 1: Greedy Constructive Search\n",
    "# Allocate dc based on the distance/costs greedily \n",
    "greedy_dc_allocation = {}\n",
    "outbound_data = pm.outbound_data\n",
    "for state in outbound_data.index:\n",
    "    best_dc = (outbound_data.loc[state]).idxmin()\n",
    "    \n",
    "    if best_dc not in greedy_dc_allocation:\n",
    "        greedy_dc_allocation[best_dc] = [state]\n",
    "    elif isinstance(greedy_dc_allocation[best_dc], list):\n",
    "        greedy_dc_allocation[best_dc].append(state)\n",
    "    else:\n",
    "        greedy_dc_allocation[best_dc] = [greedy_dc_allocation[best_dc], state]\n",
    "\n",
    "all_costs = pm.total_costs(greedy_dc_allocation, as_is_dc)\n",
    "print('Total Costs:', round(all_costs[0]))\n",
    "print('Total Inbound Costs:', round(all_costs[1]))\n",
    "print('Total Warehousing Costs:', round(all_costs[2]))\n",
    "print('Total Outbound Costs:', round(all_costs[3]))\n",
    "print('Total Operational Costs:', round(all_costs[4]))\n",
    "\n",
    "print(greedy_dc_allocation)\n",
    "\n",
    "# Turns out, even though the shipping costs are lower,\n",
    "# the total outbound costs are relatively higher since the operating and opening costs are skyrocketed."
   ]
  },
  {
   "cell_type": "code",
   "execution_count": 15,
   "id": "b2fccc6c",
   "metadata": {},
   "outputs": [
    {
     "name": "stdout",
     "output_type": "stream",
     "text": [
      "Total Costs: 9817339.448692791\n",
      "Total Inbound Costs: 1124750\n",
      "Total Warehousing Costs: 1874181\n",
      "Total Outbound Costs: 943159\n",
      "Total Operational Costs: 7000000\n",
      "{'WA': ['AK', 'ID', 'OR', 'WA'], 'TN': ['AL', 'AR', 'FL', 'GA', 'KS', 'KY', 'MO', 'MS', 'NC', 'OH', 'PA', 'SC', 'TN', 'VA', 'WV'], 'UT': ['AZ', 'CA', 'CO', 'NV', 'UT', 'WY'], 'NY': ['CT', 'DE', 'HI', 'MA', 'MD', 'ME', 'NH', 'NJ', 'NY', 'RI', 'VT', 'DC'], 'ND': ['IA', 'IN', 'MN', 'MT', 'ND', 'NE', 'SD', 'WI'], 'IL': ['IL', 'MI'], 'TX': ['LA', 'NM', 'OK', 'TX']}\n"
     ]
    }
   ],
   "source": [
    "# Algorithm 1b: Greedy Constructive Heuristics\n",
    "# Now, knowing that opening/closing and operating new DC can be costly, we apply the same algorithm without opening a new DC.\n",
    "\n",
    "greedy_dc_allocation = {}\n",
    "outbound_data = pm.outbound_data\n",
    "\n",
    "for state in outbound_data.index:\n",
    "    current_dc = outbound_data[list(as_is_dc.keys())]\n",
    "    best_dc = (current_dc.loc[state]).idxmin()\n",
    "    if best_dc not in as_is_dc:\n",
    "        print(best_dc)\n",
    "    \n",
    "    if best_dc not in greedy_dc_allocation:\n",
    "        greedy_dc_allocation[best_dc] = [state]\n",
    "    elif isinstance(greedy_dc_allocation[best_dc], list):\n",
    "        greedy_dc_allocation[best_dc].append(state)\n",
    "    else:\n",
    "        greedy_dc_allocation[best_dc] = [greedy_dc_allocation[best_dc], state]\n",
    "\n",
    "all_costs = pm.total_costs(greedy_dc_allocation, as_is_dc)\n",
    "print('Total Costs:', round(all_costs[0]))\n",
    "print('Total Inbound Costs:', round(all_costs[1]))\n",
    "print('Total Warehousing Costs:', round(all_costs[2]))\n",
    "print('Total Outbound Costs:', round(all_costs[3]))\n",
    "print('Total Operational Costs:', round(all_costs[4]))\n",
    "print(greedy_dc_allocation)\n",
    "# The shipping costs are lowered again, but the handling costs are increasing slightly.\n",
    "# It resulted in a less significant decrease."
   ]
  },
  {
   "cell_type": "code",
   "execution_count": 8,
   "id": "062e1dca",
   "metadata": {},
   "outputs": [
    {
     "name": "stdout",
     "output_type": "stream",
     "text": [
      "Total Costs: 9817339\n",
      "Total Inbound Costs: 1124750\n",
      "Total Warehousing Costs: 1874181\n",
      "Total Outbound Costs: 943159\n",
      "Total Operational Costs: 7000000\n",
      "{'WA': ['AK', 'ID', 'OR', 'WA'], 'TN': ['AL', 'AR', 'FL', 'GA', 'KS', 'KY', 'MO', 'MS', 'NC', 'OH', 'PA', 'SC', 'TN', 'VA', 'WV'], 'UT': ['AZ', 'CA', 'CO', 'NV', 'UT', 'WY'], 'NY': ['CT', 'DE', 'HI', 'MA', 'MD', 'ME', 'NH', 'NJ', 'NY', 'RI', 'VT', 'DC'], 'ND': ['IA', 'IN', 'MN', 'MT', 'ND', 'NE', 'SD', 'WI'], 'IL': ['IL', 'MI'], 'TX': ['LA', 'NM', 'OK', 'TX']}\n"
     ]
    }
   ],
   "source": [
    "# Best solution\n",
    " \n",
    "\n",
    "to_be = {'WA': ['AK', 'ID', 'OR', 'WA'], \n",
    "         'TN': ['AL', 'AR', 'FL', 'GA', 'KS', 'KY', 'MO', 'MS', 'NC', 'OH', 'PA', 'SC', 'TN', 'VA', 'WV'],\n",
    "         'UT': ['AZ', 'CA', 'CO', 'NV', 'UT', 'WY'], \n",
    "         'NY': ['CT', 'DE', 'HI', 'MA', 'MD', 'ME', 'NH', 'NJ', 'NY', 'RI', 'VT', 'DC'], 'ND': ['IA', 'IN', 'MN', 'MT', 'ND', 'NE', 'SD', 'WI'], 'IL': ['IL', 'MI'], 'TX': ['LA', 'NM', 'OK', 'TX']}\n",
    "\n",
    "# to_be = {'WA': ['AK', 'ID', 'OR', 'WA'], \n",
    "#          'TN': ['AL', 'AR', 'FL', 'GA', 'KS', 'KY', 'MO', 'MS', 'NC', 'OH', 'PA', 'SC', 'TN', 'VA', 'WV'],\n",
    "#          'UT': ['AZ', 'CA', 'CO', 'NV', 'UT', 'WY'], \n",
    "#          'NY': ['CT', 'DE', 'HI', 'MA', 'MD', 'ME', 'NH', 'NJ', 'NY', 'RI', 'VT', 'DC'], 'ND': ['IA', 'IN', 'MN', 'MT', 'ND', 'NE', 'SD', 'WI'], 'IL': ['IL', 'MI'], 'TX': ['LA', 'NM', 'OK', 'TX']}\n",
    "all_costs = pm.total_costs(to_be, as_is_dc)\n",
    "print('Total Costs:', round(all_costs[0]))\n",
    "print('Total Inbound Costs:', round(all_costs[1]))\n",
    "print('Total Warehousing Costs:', round(all_costs[2]))\n",
    "print('Total Outbound Costs:', round(all_costs[3]))\n",
    "print('Total Operational Costs:', round(all_costs[4]))\n",
    "print(greedy_dc_allocation)"
   ]
  }
 ],
 "metadata": {
  "kernelspec": {
   "display_name": "Python 3 (ipykernel)",
   "language": "python",
   "name": "python3"
  },
  "language_info": {
   "codemirror_mode": {
    "name": "ipython",
    "version": 3
   },
   "file_extension": ".py",
   "mimetype": "text/x-python",
   "name": "python",
   "nbconvert_exporter": "python",
   "pygments_lexer": "ipython3",
   "version": "3.11.9"
  }
 },
 "nbformat": 4,
 "nbformat_minor": 5
}
