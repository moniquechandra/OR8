{
 "cells": [
  {
   "cell_type": "code",
   "execution_count": 1,
   "id": "4109882e",
   "metadata": {},
   "outputs": [],
   "source": [
    "import warnings\n",
    "warnings.filterwarnings('ignore')\n",
    "from product_details import Parameters\n",
    "pm = Parameters()\n"
   ]
  },
  {
   "cell_type": "code",
   "execution_count": 2,
   "id": "027d6bfe",
   "metadata": {},
   "outputs": [
    {
     "name": "stdout",
     "output_type": "stream",
     "text": [
      "Total Costs: 11363602\n",
      "Total Inbound Costs: 1124750\n",
      "Total Handling In Costs: 55780\n",
      "Total Storage Costs: 1341612\n",
      "Total Handling Out Costs: 686104\n",
      "Total Outbound Costs: 1155356\n",
      "Total Operational Costs: 7000000\n"
     ]
    }
   ],
   "source": [
    "# As-Is Situation\n",
    "\n",
    "# Define the as-is DC allocation. The keys are the DC, the values are the states where the corresponding DC's customers are.\n",
    "as_is_dc = {\n",
    "    \"NY\": ['CT', 'DC', 'DE', 'MA', 'MD', 'ME', 'NH', 'NJ', 'NY', 'PA', 'RI', 'VT'],\n",
    "    \"ND\": ['MN', 'MT', 'ND', 'SD', 'WY'],\n",
    "    \"IL\": ['HI', 'IA', 'IL', 'IN', 'KS', 'KY', 'MI', 'MO', 'NE', 'OH', 'VA', 'WI', 'WV'],\n",
    "    \"TN\": ['AL', 'FL', 'GA', 'NC', 'SC', 'TN'],\n",
    "    \"WA\": ['AK', 'ID', 'OR', 'WA'],\n",
    "    \"TX\": ['AR', 'AZ', 'LA', 'MS', 'NM', 'OK', 'TX'],\n",
    "    \"UT\": ['CA', 'CO', 'NV', 'UT']\n",
    "}\n",
    "\n",
    "all_costs = pm.total_costs(as_is_dc)\n",
    "print('Total Costs:', round(all_costs[0]))\n",
    "print('Total Inbound Costs:', round(all_costs[1]))\n",
    "print('Total Handling In Costs:', round(all_costs[2]))\n",
    "print('Total Storage Costs:', round(all_costs[3]))\n",
    "print('Total Handling Out Costs:', round(all_costs[4]))\n",
    "print('Total Outbound Costs:', round(all_costs[5]))\n",
    "print('Total Operational Costs:', round(all_costs[6]))"
   ]
  },
  {
   "cell_type": "code",
   "execution_count": 14,
   "id": "620f032c",
   "metadata": {},
   "outputs": [
    {
     "name": "stdout",
     "output_type": "stream",
     "text": [
      "Total Costs: 14281176\n",
      "Total Inbound Costs: 1151900\n",
      "Total Handling In Costs: 49490\n",
      "Total Storage Costs: 997608\n",
      "Total Handling Out Costs: 719931\n",
      "Total Outbound Costs: 1612247\n",
      "Total Operational Costs: 9750000\n"
     ]
    }
   ],
   "source": [
    "dc = ({'WA': ['WA', 'NE', 'AZ'], 'TN': ['AL', 'FL', 'GA', 'KS', 'KY', 'MO', 'NC', 'OH', 'PA', 'SC', 'TN', 'VA', 'WV', 'TX', 'ME', 'DC', 'LA', 'ID', 'OR', 'CA'], 'UT': [], 'NY': ['CT', 'DE', 'HI', 'MA', 'MD', 'NH', 'NJ', 'NY', 'RI', 'VT', 'MS', 'AK', 'UT'], 'ND': ['IA', 'IN', 'MN', 'MT', 'ND', 'WI', 'IL', 'NV'], 'IL': [], 'TX': ['NM', 'OK', 'AR', 'MI', 'WY', 'SD', 'CO']})\n",
    "all_costs = pm.total_costs(dc, as_is_dc)\n",
    "print('Total Costs:', round(all_costs[0]))\n",
    "print('Total Inbound Costs:', round(all_costs[1]))\n",
    "print('Total Handling In Costs:', round(all_costs[2]))\n",
    "print('Total Storage Costs:', round(all_costs[3]))\n",
    "print('Total Handling Out Costs:', round(all_costs[4]))\n",
    "print('Total Outbound Costs:', round(all_costs[5]))\n",
    "print('Total Operational Costs:', round(all_costs[6]))"
   ]
  },
  {
   "cell_type": "code",
   "execution_count": 4,
   "id": "9973ff37",
   "metadata": {},
   "outputs": [
    {
     "name": "stdout",
     "output_type": "stream",
     "text": [
      "{'WA': ['AK', 'ID', 'MT', 'OR', 'WA'], 'TN': ['AL', 'FL', 'GA', 'KY', 'MS', 'NC', 'OH', 'SC', 'VA', 'WV'], 'TX': ['AR', 'LA', 'NM', 'OK', 'TN', 'TX'], 'UT': ['AZ', 'CO', 'NV', 'UT', 'WY'], 'CA': ['CA'], 'NY': ['CT', 'DE', 'MA', 'ME', 'NH', 'NJ', 'NY', 'RI', 'VT'], 'PA': ['HI', 'MD', 'PA', 'DC'], 'KS': ['IA', 'KS', 'MO', 'NE'], 'IL': ['IL', 'MI', 'MN'], 'ND': ['IN', 'ND', 'SD', 'WI']}\n",
      "Total Costs: 15615620\n",
      "Total Inbound Costs: 1215700\n",
      "Total Handling In Costs: 60340\n",
      "Total Storage Costs: 1278576\n",
      "Total Handling Out Costs: 697577\n",
      "Total Outbound Costs: 933427\n",
      "Total Operational Costs: 11430000\n"
     ]
    }
   ],
   "source": [
    "# Algorithm 1: Greedy Constructive Search\n",
    "# Allocate dc based on the distance/costs greedily \n",
    "greedy_dc_allocation = {}\n",
    "outbound_data = pm.outbound_data\n",
    "for state in outbound_data.index:\n",
    "    best_dc = (outbound_data.loc[state]).idxmin()\n",
    "    \n",
    "    if best_dc not in greedy_dc_allocation:\n",
    "        greedy_dc_allocation[best_dc] = [state]\n",
    "    elif isinstance(greedy_dc_allocation[best_dc], list):\n",
    "        greedy_dc_allocation[best_dc].append(state)\n",
    "    else:\n",
    "        greedy_dc_allocation[best_dc] = [greedy_dc_allocation[best_dc], state]\n",
    "\n",
    "print(greedy_dc_allocation)\n",
    "\n",
    "all_costs = pm.total_costs(greedy_dc_allocation, as_is_dc)\n",
    "print('Total Costs:', round(all_costs[0]))\n",
    "print('Total Inbound Costs:', round(all_costs[1]))\n",
    "print('Total Handling In Costs:', round(all_costs[2]))\n",
    "print('Total Storage Costs:', round(all_costs[3]))\n",
    "print('Total Handling Out Costs:', round(all_costs[4]))\n",
    "print('Total Outbound Costs:', round(all_costs[5]))\n",
    "print('Total Operational Costs:', round(all_costs[6]))\n",
    "\n",
    "# Turns out, even though the shipping costs are lower,\n",
    "# the total outbound costs are relatively higher since the operating and opening costs are skyrocketed."
   ]
  },
  {
   "cell_type": "code",
   "execution_count": 5,
   "id": "b2fccc6c",
   "metadata": {},
   "outputs": [
    {
     "name": "stdout",
     "output_type": "stream",
     "text": [
      "Total Costs: 10959444\n",
      "Total Inbound Costs: 1128000\n",
      "Total Handling In Costs: 47640\n",
      "Total Storage Costs: 1116156\n",
      "Total Handling Out Costs: 710385\n",
      "Total Outbound Costs: 957264\n",
      "Total Operational Costs: 7000000\n",
      "{'WA': ['AK', 'ID', 'OR', 'WA'], 'TN': ['AL', 'AR', 'FL', 'GA', 'KS', 'KY', 'MO', 'MS', 'NC', 'OH', 'PA', 'SC', 'TN', 'VA', 'WV'], 'UT': ['AZ', 'CA', 'CO', 'NV', 'UT', 'WY'], 'NY': ['CT', 'DE', 'HI', 'MA', 'MD', 'ME', 'NH', 'NJ', 'NY', 'RI', 'VT', 'DC'], 'ND': ['IA', 'IN', 'MN', 'MT', 'ND', 'NE', 'SD', 'WI'], 'IL': ['IL', 'MI'], 'TX': ['LA', 'NM', 'OK', 'TX']}\n"
     ]
    }
   ],
   "source": [
    "# Algorithm 1b: Greedy Constructive Heuristics\n",
    "# Now, knowing that opening/closing and operating new DC can be costly, we apply the same algorithm without opening a new DC.\n",
    "\n",
    "greedy_dc_allocation = {}\n",
    "outbound_data = pm.outbound_data\n",
    "\n",
    "for state in outbound_data.index:\n",
    "    current_dc = outbound_data[list(as_is_dc.keys())]\n",
    "    best_dc = (current_dc.loc[state]).idxmin()\n",
    "    if best_dc not in as_is_dc:\n",
    "        print(best_dc)\n",
    "    \n",
    "    if best_dc not in greedy_dc_allocation:\n",
    "        greedy_dc_allocation[best_dc] = [state]\n",
    "    elif isinstance(greedy_dc_allocation[best_dc], list):\n",
    "        greedy_dc_allocation[best_dc].append(state)\n",
    "    else:\n",
    "        greedy_dc_allocation[best_dc] = [greedy_dc_allocation[best_dc], state]\n",
    "\n",
    "all_costs = pm.total_costs(greedy_dc_allocation, as_is_dc)\n",
    "print('Total Costs:', round(all_costs[0]))\n",
    "print('Total Inbound Costs:', round(all_costs[1]))\n",
    "print('Total Handling In Costs:', round(all_costs[2]))\n",
    "print('Total Storage Costs:', round(all_costs[3]))\n",
    "print('Total Handling Out Costs:', round(all_costs[4]))\n",
    "print('Total Outbound Costs:', round(all_costs[5]))\n",
    "print('Total Operational Costs:', round(all_costs[6]))\n",
    "print(greedy_dc_allocation)\n",
    "# The shipping costs are lowered again, but the handling costs are increasing slightly.\n",
    "# It resulted in a less significant decrease."
   ]
  },
  {
   "cell_type": "code",
   "execution_count": null,
   "id": "9c725d3d",
   "metadata": {},
   "outputs": [],
   "source": []
  },
  {
   "cell_type": "code",
   "execution_count": 6,
   "id": "062e1dca",
   "metadata": {},
   "outputs": [
    {
     "name": "stdout",
     "output_type": "stream",
     "text": [
      "Total Costs: 10883825\n",
      "Total Inbound Costs: 1191250\n",
      "Total Warehousing Costs: 38490\n",
      "Total Outbound Costs: 668772\n",
      "Total Operational Costs: 737088\n",
      "{'WA': ['AK', 'ID', 'OR', 'WA'], 'TN': ['AL', 'AR', 'FL', 'GA', 'KS', 'KY', 'MO', 'MS', 'NC', 'OH', 'PA', 'SC', 'TN', 'VA', 'WV'], 'UT': ['AZ', 'CA', 'CO', 'NV', 'UT', 'WY'], 'NY': ['CT', 'DE', 'HI', 'MA', 'MD', 'ME', 'NH', 'NJ', 'NY', 'RI', 'VT', 'DC'], 'ND': ['IA', 'IN', 'MN', 'MT', 'ND', 'NE', 'SD', 'WI'], 'IL': ['IL', 'MI'], 'TX': ['LA', 'NM', 'OK', 'TX']}\n"
     ]
    }
   ],
   "source": [
    "# Best solution (Simulated Annealing)\n",
    "to_be = {'WA': ['AK', 'WA'],\n",
    "                'TN': ['PA', 'MD', 'TN', 'OH', 'AL', 'DC', 'RI', 'ME', 'WV', 'NJ', 'HI', 'NC', 'KY', 'MS', 'GA', 'KS', 'IL', 'FL', 'MI', 'AR', 'MA', 'VA', 'CT', 'SC', 'DE', 'MO', 'NY'],\n",
    "                'UT': ['NV', 'ID', 'CA', 'AZ', 'UT', 'CO', 'WY'],\n",
    "                'NY': ['VT'],\n",
    "                'ND': ['ND', 'MN', 'OR', 'IA', 'NE', 'MT', 'WI', 'SD', 'IN'],\n",
    "                'IL': ['NH'], 'TX': ['LA', 'OK', 'NM', 'TX']}\n",
    "\n",
    "all_costs = pm.total_costs(to_be, as_is_dc)\n",
    "print('Total Costs:', round(all_costs[0]))\n",
    "print('Total Inbound Costs:', round(all_costs[1]))\n",
    "print('Total Warehousing Costs:', round(all_costs[2]))\n",
    "print('Total Outbound Costs:', round(all_costs[3]))\n",
    "print('Total Operational Costs:', round(all_costs[4]))\n",
    "print(greedy_dc_allocation)"
   ]
  }
 ],
 "metadata": {
  "kernelspec": {
   "display_name": "Python 3 (ipykernel)",
   "language": "python",
   "name": "python3"
  },
  "language_info": {
   "codemirror_mode": {
    "name": "ipython",
    "version": 3
   },
   "file_extension": ".py",
   "mimetype": "text/x-python",
   "name": "python",
   "nbconvert_exporter": "python",
   "pygments_lexer": "ipython3",
   "version": "3.11.9"
  }
 },
 "nbformat": 4,
 "nbformat_minor": 5
}
