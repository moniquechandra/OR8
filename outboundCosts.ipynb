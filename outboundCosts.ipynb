{
 "cells": [
  {
   "cell_type": "code",
   "execution_count": 1,
   "id": "4109882e",
   "metadata": {},
   "outputs": [],
   "source": [
    "import pandas as pd\n",
    "import warnings\n",
    "warnings.filterwarnings('ignore')\n",
    "from prod_details import product_demand_per_dc, handling_out_costs_per_dc, total_operational_costs\n",
    "\n",
    "# from prod_details import product_demand_per_dc, handling_out_costs_per_dc, shipping_costs_per_dc"
   ]
  },
  {
   "cell_type": "code",
   "execution_count": 5,
   "id": "a6e1352c",
   "metadata": {},
   "outputs": [
    {
     "ename": "AttributeError",
     "evalue": "'DataFrame' object has no attribute 'State'",
     "output_type": "error",
     "traceback": [
      "\u001b[1;31m---------------------------------------------------------------------------\u001b[0m",
      "\u001b[1;31mAttributeError\u001b[0m                            Traceback (most recent call last)",
      "\u001b[1;32m~\\AppData\\Local\\Temp\\ipykernel_23636\\3192371831.py\u001b[0m in \u001b[0;36m?\u001b[1;34m()\u001b[0m\n\u001b[0;32m      8\u001b[0m \u001b[0mwarehousing_handlingOut_data\u001b[0m\u001b[1;33m.\u001b[0m\u001b[0mindex\u001b[0m \u001b[1;33m=\u001b[0m \u001b[0mwarehousing_handlingOut_data\u001b[0m\u001b[1;33m.\u001b[0m\u001b[0mDC\u001b[0m\u001b[1;33m\u001b[0m\u001b[1;33m\u001b[0m\u001b[0m\n\u001b[0;32m      9\u001b[0m \u001b[0moutbound_data\u001b[0m \u001b[1;33m=\u001b[0m \u001b[0moutbound_data\u001b[0m\u001b[1;33m.\u001b[0m\u001b[0mdrop\u001b[0m\u001b[1;33m(\u001b[0m\u001b[1;33m[\u001b[0m\u001b[1;34m'State'\u001b[0m\u001b[1;33m,\u001b[0m\u001b[1;34m'Small shipment'\u001b[0m\u001b[1;33m]\u001b[0m\u001b[1;33m,\u001b[0m \u001b[0maxis\u001b[0m\u001b[1;33m=\u001b[0m\u001b[1;36m1\u001b[0m\u001b[1;33m)\u001b[0m\u001b[1;33m\u001b[0m\u001b[1;33m\u001b[0m\u001b[0m\n\u001b[0;32m     10\u001b[0m \u001b[1;33m\u001b[0m\u001b[0m\n\u001b[0;32m     11\u001b[0m \u001b[1;31m# Define the index of some data to simplify future data indexing.\u001b[0m\u001b[1;33m\u001b[0m\u001b[1;33m\u001b[0m\u001b[0m\n\u001b[1;32m---> 12\u001b[1;33m \u001b[0moutbound_data\u001b[0m\u001b[1;33m.\u001b[0m\u001b[0mindex\u001b[0m \u001b[1;33m=\u001b[0m \u001b[0moutbound_data\u001b[0m\u001b[1;33m.\u001b[0m\u001b[0mState\u001b[0m\u001b[1;33m\u001b[0m\u001b[1;33m\u001b[0m\u001b[0m\n\u001b[0m\u001b[0;32m     13\u001b[0m \u001b[0mdemand_data\u001b[0m\u001b[1;33m.\u001b[0m\u001b[0mindex\u001b[0m \u001b[1;33m=\u001b[0m \u001b[0mdemand_data\u001b[0m\u001b[1;33m.\u001b[0m\u001b[0mstate\u001b[0m\u001b[1;33m\u001b[0m\u001b[1;33m\u001b[0m\u001b[0m\n\u001b[0;32m     14\u001b[0m \u001b[0munit_data\u001b[0m\u001b[1;33m.\u001b[0m\u001b[0mindex\u001b[0m \u001b[1;33m=\u001b[0m \u001b[0munit_data\u001b[0m\u001b[1;33m.\u001b[0m\u001b[0mstate\u001b[0m\u001b[1;33m\u001b[0m\u001b[1;33m\u001b[0m\u001b[0m\n\u001b[0;32m     15\u001b[0m \u001b[0moc_data\u001b[0m\u001b[1;33m.\u001b[0m\u001b[0mindex\u001b[0m \u001b[1;33m=\u001b[0m \u001b[0moc_data\u001b[0m\u001b[1;33m.\u001b[0m\u001b[0mState\u001b[0m\u001b[1;33m\u001b[0m\u001b[1;33m\u001b[0m\u001b[0m\n",
      "\u001b[1;32m~\\AppData\\Local\\Packages\\PythonSoftwareFoundation.Python.3.11_qbz5n2kfra8p0\\LocalCache\\local-packages\\Python311\\site-packages\\pandas\\core\\generic.py\u001b[0m in \u001b[0;36m?\u001b[1;34m(self, name)\u001b[0m\n\u001b[0;32m   6200\u001b[0m             \u001b[1;32mand\u001b[0m \u001b[0mname\u001b[0m \u001b[1;32mnot\u001b[0m \u001b[1;32min\u001b[0m \u001b[0mself\u001b[0m\u001b[1;33m.\u001b[0m\u001b[0m_accessors\u001b[0m\u001b[1;33m\u001b[0m\u001b[1;33m\u001b[0m\u001b[0m\n\u001b[0;32m   6201\u001b[0m             \u001b[1;32mand\u001b[0m \u001b[0mself\u001b[0m\u001b[1;33m.\u001b[0m\u001b[0m_info_axis\u001b[0m\u001b[1;33m.\u001b[0m\u001b[0m_can_hold_identifiers_and_holds_name\u001b[0m\u001b[1;33m(\u001b[0m\u001b[0mname\u001b[0m\u001b[1;33m)\u001b[0m\u001b[1;33m\u001b[0m\u001b[1;33m\u001b[0m\u001b[0m\n\u001b[0;32m   6202\u001b[0m         ):\n\u001b[0;32m   6203\u001b[0m             \u001b[1;32mreturn\u001b[0m \u001b[0mself\u001b[0m\u001b[1;33m[\u001b[0m\u001b[0mname\u001b[0m\u001b[1;33m]\u001b[0m\u001b[1;33m\u001b[0m\u001b[1;33m\u001b[0m\u001b[0m\n\u001b[1;32m-> 6204\u001b[1;33m         \u001b[1;32mreturn\u001b[0m \u001b[0mobject\u001b[0m\u001b[1;33m.\u001b[0m\u001b[0m__getattribute__\u001b[0m\u001b[1;33m(\u001b[0m\u001b[0mself\u001b[0m\u001b[1;33m,\u001b[0m \u001b[0mname\u001b[0m\u001b[1;33m)\u001b[0m\u001b[1;33m\u001b[0m\u001b[1;33m\u001b[0m\u001b[0m\n\u001b[0m",
      "\u001b[1;31mAttributeError\u001b[0m: 'DataFrame' object has no attribute 'State'"
     ]
    }
   ],
   "source": [
    "# Load the data\n",
    "outbound_data = pd.read_excel(\"Outbound.xlsx\")\n",
    "demand_data = pd.read_excel('Demand Forecast.xlsx')\n",
    "unit_data = pd.read_excel('Product Data per State.xlsx')\n",
    "oc_data = pd.read_excel('Opening-Closing Costs.xlsx')\n",
    "\n",
    "warehousing_handlingOut_data = pd.read_excel('Warehousing.xlsx', sheet_name='Handling Out')\n",
    "warehousing_handlingOut_data.index = warehousing_handlingOut_data.DC\n",
    "outbound_data = outbound_data.drop(['State','Small shipment'], axis=1)\n",
    "\n",
    "# Define the index of some data to simplify future data indexing.\n",
    "outbound_data.index = outbound_data.State\n",
    "demand_data.index = demand_data.state\n",
    "unit_data.index = unit_data.state\n",
    "oc_data.index = oc_data.State\n",
    "\n",
    "as_is_dc = {\n",
    "    \"NY\": ['CT', 'DC', 'DE', 'MA', 'MD', 'ME', 'NH', 'NJ', 'NY', 'PA', 'RI', 'VT'],\n",
    "    \"ND\": ['MN', 'MT', 'ND', 'SD', 'WY'],\n",
    "    \"IL\": ['HI', 'IA', 'IL', 'IN', 'KS', 'KY', 'MI', 'MO', 'NE', 'OH', 'VA', 'WI', 'WV'],\n",
    "    \"TN\": ['AL', 'FL', 'GA', 'NC', 'SC', 'TN'],\n",
    "    \"WA\": ['AK', 'ID', 'OR', 'WA'],\n",
    "    \"TX\": ['AR', 'AZ', 'LA', 'MS', 'NM', 'OK', 'TX'],\n",
    "    \"UT\": ['CA', 'CO', 'NV', 'UT']}"
   ]
  },
  {
   "cell_type": "code",
   "execution_count": 3,
   "id": "66efb75e",
   "metadata": {},
   "outputs": [],
   "source": [
    "# As-Is situation\n",
    "\n",
    "def outbound_costs(dc_allocation):\n",
    "\n",
    "    dc_handling_out_costs = sum(handling_out_costs_per_dc(dc_allocation, unit_data, warehousing_handlingOut_data))\n",
    "\n",
    "    shipping_costs = []\n",
    "    for state in demand_data.index:\n",
    "        for dc, states in dc_allocation.items():\n",
    "            if state in states:\n",
    "                total_prod_weight_per_state = demand_data['total_weight'][state]\n",
    "                tariff_from_dc_to_state = outbound_data.loc[state, dc]\n",
    "                shipping_costs.append(total_prod_weight_per_state * tariff_from_dc_to_state)\n",
    "\n",
    "    dc_shipping_costs = sum(shipping_costs)\n",
    "    \n",
    "    total_outbound_costs = dc_handling_out_costs + dc_shipping_costs\n",
    "    print('Total Shipping Costs (from DC to Customers):', dc_shipping_costs)\n",
    "    print('Total Handling Out Costs:', dc_handling_out_costs)\n",
    "    print('Total Outbound Costs:', total_outbound_costs)\n",
    "    \n",
    "    return total_outbound_costs"
   ]
  },
  {
   "cell_type": "code",
   "execution_count": 4,
   "id": "027d6bfe",
   "metadata": {},
   "outputs": [
    {
     "ename": "NameError",
     "evalue": "name 'unit_data' is not defined",
     "output_type": "error",
     "traceback": [
      "\u001b[1;31m---------------------------------------------------------------------------\u001b[0m",
      "\u001b[1;31mNameError\u001b[0m                                 Traceback (most recent call last)",
      "Cell \u001b[1;32mIn[4], line 15\u001b[0m\n\u001b[0;32m      4\u001b[0m as_is_dc \u001b[38;5;241m=\u001b[39m {\n\u001b[0;32m      5\u001b[0m     \u001b[38;5;124m\"\u001b[39m\u001b[38;5;124mNY\u001b[39m\u001b[38;5;124m\"\u001b[39m: [\u001b[38;5;124m'\u001b[39m\u001b[38;5;124mCT\u001b[39m\u001b[38;5;124m'\u001b[39m, \u001b[38;5;124m'\u001b[39m\u001b[38;5;124mDC\u001b[39m\u001b[38;5;124m'\u001b[39m, \u001b[38;5;124m'\u001b[39m\u001b[38;5;124mDE\u001b[39m\u001b[38;5;124m'\u001b[39m, \u001b[38;5;124m'\u001b[39m\u001b[38;5;124mMA\u001b[39m\u001b[38;5;124m'\u001b[39m, \u001b[38;5;124m'\u001b[39m\u001b[38;5;124mMD\u001b[39m\u001b[38;5;124m'\u001b[39m, \u001b[38;5;124m'\u001b[39m\u001b[38;5;124mME\u001b[39m\u001b[38;5;124m'\u001b[39m, \u001b[38;5;124m'\u001b[39m\u001b[38;5;124mNH\u001b[39m\u001b[38;5;124m'\u001b[39m, \u001b[38;5;124m'\u001b[39m\u001b[38;5;124mNJ\u001b[39m\u001b[38;5;124m'\u001b[39m, \u001b[38;5;124m'\u001b[39m\u001b[38;5;124mNY\u001b[39m\u001b[38;5;124m'\u001b[39m, \u001b[38;5;124m'\u001b[39m\u001b[38;5;124mPA\u001b[39m\u001b[38;5;124m'\u001b[39m, \u001b[38;5;124m'\u001b[39m\u001b[38;5;124mRI\u001b[39m\u001b[38;5;124m'\u001b[39m, \u001b[38;5;124m'\u001b[39m\u001b[38;5;124mVT\u001b[39m\u001b[38;5;124m'\u001b[39m],\n\u001b[0;32m      6\u001b[0m     \u001b[38;5;124m\"\u001b[39m\u001b[38;5;124mND\u001b[39m\u001b[38;5;124m\"\u001b[39m: [\u001b[38;5;124m'\u001b[39m\u001b[38;5;124mMN\u001b[39m\u001b[38;5;124m'\u001b[39m, \u001b[38;5;124m'\u001b[39m\u001b[38;5;124mMT\u001b[39m\u001b[38;5;124m'\u001b[39m, \u001b[38;5;124m'\u001b[39m\u001b[38;5;124mND\u001b[39m\u001b[38;5;124m'\u001b[39m, \u001b[38;5;124m'\u001b[39m\u001b[38;5;124mSD\u001b[39m\u001b[38;5;124m'\u001b[39m, \u001b[38;5;124m'\u001b[39m\u001b[38;5;124mWY\u001b[39m\u001b[38;5;124m'\u001b[39m],\n\u001b[1;32m   (...)\u001b[0m\n\u001b[0;32m     11\u001b[0m     \u001b[38;5;124m\"\u001b[39m\u001b[38;5;124mUT\u001b[39m\u001b[38;5;124m\"\u001b[39m: [\u001b[38;5;124m'\u001b[39m\u001b[38;5;124mCA\u001b[39m\u001b[38;5;124m'\u001b[39m, \u001b[38;5;124m'\u001b[39m\u001b[38;5;124mCO\u001b[39m\u001b[38;5;124m'\u001b[39m, \u001b[38;5;124m'\u001b[39m\u001b[38;5;124mNV\u001b[39m\u001b[38;5;124m'\u001b[39m, \u001b[38;5;124m'\u001b[39m\u001b[38;5;124mUT\u001b[39m\u001b[38;5;124m'\u001b[39m]\n\u001b[0;32m     12\u001b[0m }\n\u001b[0;32m     14\u001b[0m \u001b[38;5;66;03m# Calculate the total outbound_costs\u001b[39;00m\n\u001b[1;32m---> 15\u001b[0m \u001b[43moutbound_costs\u001b[49m\u001b[43m(\u001b[49m\u001b[43mas_is_dc\u001b[49m\u001b[43m)\u001b[49m\n\u001b[0;32m     16\u001b[0m total_operational_costs(as_is_dc)\n",
      "Cell \u001b[1;32mIn[3], line 5\u001b[0m, in \u001b[0;36moutbound_costs\u001b[1;34m(dc_allocation)\u001b[0m\n\u001b[0;32m      3\u001b[0m \u001b[38;5;28;01mdef\u001b[39;00m \u001b[38;5;21moutbound_costs\u001b[39m(dc_allocation):\n\u001b[1;32m----> 5\u001b[0m     dc_handling_out_costs \u001b[38;5;241m=\u001b[39m \u001b[38;5;28msum\u001b[39m(handling_out_costs_per_dc(dc_allocation, \u001b[43munit_data\u001b[49m, warehousing_handlingOut_data))\n\u001b[0;32m      7\u001b[0m     shipping_costs \u001b[38;5;241m=\u001b[39m []\n\u001b[0;32m      8\u001b[0m     \u001b[38;5;28;01mfor\u001b[39;00m state \u001b[38;5;129;01min\u001b[39;00m demand_data\u001b[38;5;241m.\u001b[39mindex:\n",
      "\u001b[1;31mNameError\u001b[0m: name 'unit_data' is not defined"
     ]
    }
   ],
   "source": [
    "# As-Is Situation\n",
    "\n",
    "# Define the as-is DC allocation. The keys are the DC, the values are the states where the corresponding DC's customers are.\n",
    "as_is_dc = {\n",
    "    \"NY\": ['CT', 'DC', 'DE', 'MA', 'MD', 'ME', 'NH', 'NJ', 'NY', 'PA', 'RI', 'VT'],\n",
    "    \"ND\": ['MN', 'MT', 'ND', 'SD', 'WY'],\n",
    "    \"IL\": ['HI', 'IA', 'IL', 'IN', 'KS', 'KY', 'MI', 'MO', 'NE', 'OH', 'VA', 'WI', 'WV'],\n",
    "    \"TN\": ['AL', 'FL', 'GA', 'NC', 'SC', 'TN'],\n",
    "    \"WA\": ['AK', 'ID', 'OR', 'WA'],\n",
    "    \"TX\": ['AR', 'AZ', 'LA', 'MS', 'NM', 'OK', 'TX'],\n",
    "    \"UT\": ['CA', 'CO', 'NV', 'UT']\n",
    "}\n",
    "\n",
    "# Calculate the total outbound_costs\n",
    "outbound_costs(as_is_dc)\n",
    "total_operational_costs(as_is_dc)"
   ]
  },
  {
   "cell_type": "code",
   "execution_count": 47,
   "id": "9973ff37",
   "metadata": {},
   "outputs": [
    {
     "name": "stdout",
     "output_type": "stream",
     "text": [
      "Total Shipping Costs (from DC to Customers): 911216.61240381\n",
      "Total Handling Out Costs: 1825572.3299999996\n",
      "Total Outbound Costs: 2736788.9424038096\n"
     ]
    },
    {
     "data": {
      "text/plain": [
       "2736788.9424038096"
      ]
     },
     "execution_count": 47,
     "metadata": {},
     "output_type": "execute_result"
    }
   ],
   "source": [
    "# Algorithm 1: Greedy Constructive Search\n",
    "# Allocate dc based on the distance/costs greedily \n",
    "greedy_dc_allocation = {}\n",
    "for state in outbound_data.index:\n",
    "    best_dc = (outbound_data.loc[state]).idxmin()\n",
    "    \n",
    "    if best_dc not in greedy_dc_allocation:\n",
    "        greedy_dc_allocation[best_dc] = [state]\n",
    "    elif isinstance(greedy_dc_allocation[best_dc], list):\n",
    "        greedy_dc_allocation[best_dc].append(state)\n",
    "    else:\n",
    "        greedy_dc_allocation[best_dc] = [greedy_dc_allocation[best_dc], state]\n",
    "\n",
    "# Calculate the outbound costs\n",
    "outbound_costs(greedy_dc_allocation)\n",
    "\n",
    "# Turns out, even though the shipping costs are lower,\n",
    "# the total outbound costs are relatively higher since the operating and opening costs are skyrocketed."
   ]
  },
  {
   "cell_type": "code",
   "execution_count": 60,
   "id": "b2fccc6c",
   "metadata": {},
   "outputs": [
    {
     "name": "stdout",
     "output_type": "stream",
     "text": [
      "Total Shipping Costs (from DC to Customers): 935290.7478927901\n",
      "Total Handling Out Costs: 1892668.1400000001\n",
      "Total Outbound Costs: 2827958.88789279\n"
     ]
    },
    {
     "data": {
      "text/plain": [
       "2827958.88789279"
      ]
     },
     "execution_count": 60,
     "metadata": {},
     "output_type": "execute_result"
    }
   ],
   "source": [
    "# Algorithm 1b: Greedy Constructive Heuristics\n",
    "# Now, knowing that opening and operating new DC can be costly, we apply the same algorithm without opening a new DC.\n",
    "\n",
    "greedy_dc_allocation = {}\n",
    "for state in outbound_data.index:\n",
    "    current_dc = outbound_data[list(as_is_dc.keys())]\n",
    "    best_dc = (current_dc.loc[state]).idxmin()\n",
    "    if best_dc not in as_is_dc:\n",
    "        print(best_dc)\n",
    "    \n",
    "    if best_dc not in greedy_dc_allocation:\n",
    "        greedy_dc_allocation[best_dc] = [state]\n",
    "    elif isinstance(greedy_dc_allocation[best_dc], list):\n",
    "        greedy_dc_allocation[best_dc].append(state)\n",
    "    else:\n",
    "        greedy_dc_allocation[best_dc] = [greedy_dc_allocation[best_dc], state]\n",
    "\n",
    "outbound_costs(greedy_dc_allocation)\n",
    "\n",
    "# The shipping costs are lowered again, but the handling costs are increasing slightly.\n",
    "# It resulted in a less significant decrease."
   ]
  }
 ],
 "metadata": {
  "kernelspec": {
   "display_name": "Python 3 (ipykernel)",
   "language": "python",
   "name": "python3"
  },
  "language_info": {
   "codemirror_mode": {
    "name": "ipython",
    "version": 3
   },
   "file_extension": ".py",
   "mimetype": "text/x-python",
   "name": "python",
   "nbconvert_exporter": "python",
   "pygments_lexer": "ipython3",
   "version": "3.11.9"
  }
 },
 "nbformat": 4,
 "nbformat_minor": 5
}
