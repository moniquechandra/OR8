{
 "cells": [
  {
   "cell_type": "code",
   "execution_count": 6,
   "id": "4109882e",
   "metadata": {},
   "outputs": [],
   "source": [
    "import numpy as np\n",
    "import pandas as pd\n",
    "import warnings\n",
    "import pulp\n",
    "warnings.filterwarnings('ignore')"
   ]
  },
  {
   "cell_type": "code",
   "execution_count": 39,
   "id": "3e2c465d",
   "metadata": {},
   "outputs": [],
   "source": [
    "outbound_data = pd.read_excel(\"Outbound.xlsx\")\n",
    "demand_data = pd.read_excel(\"Demand Forecast.xlsx\")\n",
    "unit_data = pd.read_excel('Product Data per State.xlsx')\n",
    "handling_out_data = pd.read_excel('Warehousing.xlsx')\n",
    "storage_data = pd.read_excel('Storage.xlsx')"
   ]
  },
  {
   "cell_type": "code",
   "execution_count": 31,
   "id": "c583f5e7",
   "metadata": {},
   "outputs": [],
   "source": [
    "# What I did: removed the State column, remove the description of tariff and small shipments\n",
    "outbound_data.index = outbound_data.State\n",
    "demand_data.index = demand_data.state\n",
    "outbound_data = outbound_data.drop(['State','Small shipment'], axis=1)"
   ]
  },
  {
   "cell_type": "code",
   "execution_count": 32,
   "id": "c4ff9543",
   "metadata": {},
   "outputs": [
    {
     "name": "stdout",
     "output_type": "stream",
     "text": [
      "{'WA': ['AK', 'ID', 'MT', 'OR', 'WA'], 'TN': ['AL', 'FL', 'GA', 'KY', 'MS', 'NC', 'OH', 'SC', 'VA', 'WV'], 'TX': ['AR', 'LA', 'NM', 'OK', 'TN', 'TX'], 'UT': ['AZ', 'CO', 'NV', 'UT', 'WY'], 'CA': ['CA'], 'NY': ['CT', 'DE', 'MA', 'ME', 'NH', 'NJ', 'NY', 'RI', 'VT'], 'PA': ['HI', 'MD', 'PA', 'DC'], 'KS': ['IA', 'KS', 'MO', 'NE'], 'IL': ['IL', 'MI', 'MN'], 'ND': ['IN', 'ND', 'SD', 'WI']}\n",
      "Total Shipping Costs (from DC to Customers): 911216.61240381\n",
      "Total Handling Out Costs: 1868259.8699999999\n",
      "Total costs for keeping 7 DCs open: 10000000\n",
      "Total Outbound Costs: 12779476.5\n"
     ]
    }
   ],
   "source": [
    "# As-Is situation\n",
    "\n",
    "dc_allocation = {}\n",
    "# then check everything! (also ask why DC is not in the list)\n",
    "for state in outbound_data.index:\n",
    "    best_dc = (outbound_data.loc[state]).idxmin()\n",
    "    \n",
    "    if best_dc not in dc_allocation:\n",
    "        dc_allocation[best_dc] = state\n",
    "    elif isinstance(dc_allocation[best_dc], list):\n",
    "        dc_allocation[best_dc].append(state)\n",
    "    else:\n",
    "        dc_allocation[best_dc] = [dc_allocation[best_dc], state]\n",
    "        \n",
    "dc_allocation['CA'] = ['CA']\n",
    "print(dc_allocation)\n",
    "\n",
    "def outbound_costs(dc_allocation):\n",
    "    dc_product_demand = {}\n",
    "    for dc in dc_allocation:\n",
    "        dc_product_demand[dc] = {}  # Create a dictionary for each DC\n",
    "        for product in ['blender', 'swing', 'chair', 'scooter', 'skiprope']:\n",
    "            total_demand_per_dc = 0\n",
    "            for state in dc_allocation[dc]:\n",
    "                total_demand_per_dc += (demand_data.loc[state, product])\n",
    "            dc_product_demand[dc][product] = total_demand_per_dc  # Store demand (in boxes) for each product based on DC\n",
    "\n",
    "    # Calculate the outbound costs\n",
    "    shipping_costs = []\n",
    "    handling_out_costs_per_dc = []\n",
    "    product_units = unit_data.columns.difference(['state'])\n",
    "    handling_out_data.index = handling_out_data.DC\n",
    "    unit_data.index = unit_data.state\n",
    "\n",
    "    for state in demand_data.index:\n",
    "        for dc, states in dc_allocation.items():\n",
    "            if state in states:\n",
    "                shipping_costs.append((demand_data['total_weight'][state] * outbound_data.loc[state, dc]))\n",
    "                # handling_out_costs.append(demand_data['blender_boxes'] * handling_out_data.loc[dc, ])\n",
    "\n",
    "    for dc, states in dc_allocation.items():\n",
    "        out_costs_per_state = 0\n",
    "        for state in unit_data.index:\n",
    "            if state in states:\n",
    "                for product in product_units:\n",
    "                    out_costs_per_state += unit_data[product][state] * handling_out_data.loc[dc, product]\n",
    "                \n",
    "        handling_out_costs_per_dc.append(out_costs_per_state)\n",
    "\n",
    "    shipping_costs = sum(shipping_costs)\n",
    "    handling_out_costs = sum(handling_out_costs_per_dc)\n",
    "    opening_costs = len(dc_allocation)*1000000 # Keep a DC open need $1M per year.\n",
    "    total_outbound_costs = np.round(shipping_costs + handling_out_costs + opening_costs, 1)\n",
    "\n",
    "    print('Total Shipping Costs (from DC to Customers):', shipping_costs)\n",
    "    print('Total Handling Out Costs:', handling_out_costs)\n",
    "    print('Total costs for keeping 7 DCs open:', opening_costs)\n",
    "    print('Total Outbound Costs:', total_outbound_costs)"
   ]
  },
  {
   "cell_type": "code",
   "execution_count": 34,
   "id": "09e81d74",
   "metadata": {},
   "outputs": [
    {
     "name": "stdout",
     "output_type": "stream",
     "text": [
      "Total Shipping Costs (from DC to Customers): 1135481.33914202\n",
      "Total Handling Out Costs: 1845542.21\n",
      "Total costs for keeping 7 DCs open: 7000000\n",
      "Total Outbound Costs: 9981023.5\n"
     ]
    }
   ],
   "source": [
    "as_is_dc = {\n",
    "    \"NY\": ['CT', 'DC', 'DE', 'MA', 'MD', 'ME', 'NH', 'NJ', 'NY', 'PA', 'RI', 'VT'],\n",
    "    \"ND\": ['MN', 'MT', 'ND', 'SD', 'WY'],\n",
    "    \"IL\": ['HI', 'IA', 'IL', 'IN', 'KS', 'KY', 'MI', 'MO', 'NE', 'OH', 'VA', 'WI', 'WV'],\n",
    "    \"TN\": ['AL', 'FL', 'GA', 'NC', 'SC', 'TN'],\n",
    "    \"WA\": ['AK', 'ID', 'OR', 'WA'],\n",
    "    \"TX\": ['AR', 'AZ', 'LA', 'MS', 'NM', 'OK', 'TX'],\n",
    "    \"UT\": ['CA', 'CO', 'NV', 'UT']\n",
    "}\n",
    "\n",
    "outbound_costs(as_is_dc)"
   ]
  },
  {
   "cell_type": "code",
   "execution_count": 38,
   "id": "027d6bfe",
   "metadata": {},
   "outputs": [
    {
     "name": "stdout",
     "output_type": "stream",
     "text": [
      "Total Shipping Costs (from DC to Customers): 911216.61240381\n",
      "Total Handling Out Costs: 1868259.8699999999\n",
      "Total costs for keeping 7 DCs open: 10000000\n",
      "Total Outbound Costs: 12779476.5\n"
     ]
    }
   ],
   "source": [
    "# Determine To-Be situation\n",
    "\n",
    "# Know the best DC allocation based on distance only\n",
    "best_dc_allocation = {}\n",
    "for state in outbound_data.index:\n",
    "    best_dc = (outbound_data.loc[state]).idxmin()\n",
    "    \n",
    "    if best_dc not in best_dc_allocation:\n",
    "        best_dc_allocation[best_dc] = [state]\n",
    "    elif isinstance(best_dc_allocation[best_dc], list):\n",
    "        best_dc_allocation[best_dc].append(state)\n",
    "    else:\n",
    "        best_dc_allocation[best_dc] = [best_dc_allocation[best_dc], state]\n",
    "        \n",
    "# print(best_dc_allocation)\n",
    "outbound_costs(best_dc_allocation)"
   ]
  },
  {
   "cell_type": "code",
   "execution_count": null,
   "id": "6fbb23ec",
   "metadata": {},
   "outputs": [],
   "source": []
  },
  {
   "cell_type": "code",
   "execution_count": null,
   "id": "1fdc2551",
   "metadata": {},
   "outputs": [],
   "source": [
    "\n",
    "# Create the optimization problem\n",
    "prob = pulp.LpProblem(\"UFLP_with_Current_Status\", pulp.LpMinimize)\n",
    "\n",
    "# Decision variables\n",
    "y = pulp.LpVariable.dicts(\"OpenFacility\", range(num_dc), cat='Binary')\n",
    "x = pulp.LpVariable.dicts(\"ServeCustomer\", (range(num_states), range(num_dc)), cat='Binary')\n",
    "\n",
    "# Objective function\n",
    "# fc = pulp.lpSum(fixed_costs[j] * y[j] for j in range(num_dc))\n",
    "# vc = pulp.lpSum(variable_costs[i][j] * x[i][j] for i in range(num_states) for j in range(num_dc))\n",
    "# prob +=  fc + vc\n",
    "        \n",
    "\n",
    "# Constraints\n",
    "for i in range(num_states):\n",
    "    prob += pulp.lpSum(x[i][j] for j in range(num_dc)) == 1  # Each customer is assigned to exactly one facility\n",
    "\n",
    "for i in range(num_states):\n",
    "    for j in range(num_dc):\n",
    "        prob += x[i][j] <= y[j]  # Customers can only be assigned to open facilities\n",
    "\n",
    "# Solve the problem\n",
    "prob.solve()\n",
    "\n",
    "# Print results\n",
    "print(\"Status:\", pulp.LpStatus[prob.status])\n",
    "\n",
    "print(\"Facilities to open:\")\n",
    "for j in range(num_dc):\n",
    "    if y[j].varValue == 1:\n",
    "        print(f\"Facility {j} should be opened.\")\n",
    "\n",
    "print(\"Customer assignments:\")\n",
    "for i in range(num_states):\n",
    "    for j in range(num_dc):\n",
    "        if x[i][j].varValue == 1:\n",
    "            print(f\"Customer {i} is served by Facility {j}.\")\n"
   ]
  },
  {
   "cell_type": "code",
   "execution_count": 14,
   "id": "9973ff37",
   "metadata": {},
   "outputs": [
    {
     "ename": "KeyError",
     "evalue": "'C'",
     "output_type": "error",
     "traceback": [
      "\u001b[1;31m---------------------------------------------------------------------------\u001b[0m",
      "\u001b[1;31mKeyError\u001b[0m                                  Traceback (most recent call last)",
      "File \u001b[1;32m~\\AppData\\Local\\Packages\\PythonSoftwareFoundation.Python.3.11_qbz5n2kfra8p0\\LocalCache\\local-packages\\Python311\\site-packages\\pandas\\core\\indexes\\base.py:3790\u001b[0m, in \u001b[0;36mIndex.get_loc\u001b[1;34m(self, key)\u001b[0m\n\u001b[0;32m   3789\u001b[0m \u001b[38;5;28;01mtry\u001b[39;00m:\n\u001b[1;32m-> 3790\u001b[0m     \u001b[38;5;28;01mreturn\u001b[39;00m \u001b[38;5;28;43mself\u001b[39;49m\u001b[38;5;241;43m.\u001b[39;49m\u001b[43m_engine\u001b[49m\u001b[38;5;241;43m.\u001b[39;49m\u001b[43mget_loc\u001b[49m\u001b[43m(\u001b[49m\u001b[43mcasted_key\u001b[49m\u001b[43m)\u001b[49m\n\u001b[0;32m   3791\u001b[0m \u001b[38;5;28;01mexcept\u001b[39;00m \u001b[38;5;167;01mKeyError\u001b[39;00m \u001b[38;5;28;01mas\u001b[39;00m err:\n",
      "File \u001b[1;32mindex.pyx:152\u001b[0m, in \u001b[0;36mpandas._libs.index.IndexEngine.get_loc\u001b[1;34m()\u001b[0m\n",
      "File \u001b[1;32mindex.pyx:181\u001b[0m, in \u001b[0;36mpandas._libs.index.IndexEngine.get_loc\u001b[1;34m()\u001b[0m\n",
      "File \u001b[1;32mpandas\\_libs\\hashtable_class_helper.pxi:7080\u001b[0m, in \u001b[0;36mpandas._libs.hashtable.PyObjectHashTable.get_item\u001b[1;34m()\u001b[0m\n",
      "File \u001b[1;32mpandas\\_libs\\hashtable_class_helper.pxi:7088\u001b[0m, in \u001b[0;36mpandas._libs.hashtable.PyObjectHashTable.get_item\u001b[1;34m()\u001b[0m\n",
      "\u001b[1;31mKeyError\u001b[0m: 'C'",
      "\nThe above exception was the direct cause of the following exception:\n",
      "\u001b[1;31mKeyError\u001b[0m                                  Traceback (most recent call last)",
      "Cell \u001b[1;32mIn[14], line 14\u001b[0m\n\u001b[0;32m     11\u001b[0m     \u001b[38;5;28;01melse\u001b[39;00m:\n\u001b[0;32m     12\u001b[0m         best_dc_allocation[best_dc] \u001b[38;5;241m=\u001b[39m [best_dc_allocation[best_dc], state]\n\u001b[1;32m---> 14\u001b[0m \u001b[43moutbound_costs\u001b[49m\u001b[43m(\u001b[49m\u001b[43mbest_dc_allocation\u001b[49m\u001b[43m)\u001b[49m\n",
      "Cell \u001b[1;32mIn[11], line 20\u001b[0m, in \u001b[0;36moutbound_costs\u001b[1;34m(dc_allocation)\u001b[0m\n\u001b[0;32m     18\u001b[0m         total_demand_per_dc \u001b[38;5;241m=\u001b[39m \u001b[38;5;241m0\u001b[39m\n\u001b[0;32m     19\u001b[0m         \u001b[38;5;28;01mfor\u001b[39;00m state \u001b[38;5;129;01min\u001b[39;00m dc_allocation[dc]:\n\u001b[1;32m---> 20\u001b[0m             total_demand_per_dc \u001b[38;5;241m+\u001b[39m\u001b[38;5;241m=\u001b[39m (\u001b[43mdemand_data\u001b[49m\u001b[38;5;241;43m.\u001b[39;49m\u001b[43mloc\u001b[49m\u001b[43m[\u001b[49m\u001b[43mstate\u001b[49m\u001b[43m,\u001b[49m\u001b[43m \u001b[49m\u001b[43mproduct\u001b[49m\u001b[43m]\u001b[49m)\n\u001b[0;32m     21\u001b[0m         dc_product_demand[dc][product] \u001b[38;5;241m=\u001b[39m total_demand_per_dc  \u001b[38;5;66;03m# Store demand (in boxes) for each product based on DC\u001b[39;00m\n\u001b[0;32m     23\u001b[0m \u001b[38;5;66;03m# Calculate the outbound costs\u001b[39;00m\n",
      "File \u001b[1;32m~\\AppData\\Local\\Packages\\PythonSoftwareFoundation.Python.3.11_qbz5n2kfra8p0\\LocalCache\\local-packages\\Python311\\site-packages\\pandas\\core\\indexing.py:1146\u001b[0m, in \u001b[0;36m_LocationIndexer.__getitem__\u001b[1;34m(self, key)\u001b[0m\n\u001b[0;32m   1144\u001b[0m     key \u001b[38;5;241m=\u001b[39m \u001b[38;5;28mtuple\u001b[39m(com\u001b[38;5;241m.\u001b[39mapply_if_callable(x, \u001b[38;5;28mself\u001b[39m\u001b[38;5;241m.\u001b[39mobj) \u001b[38;5;28;01mfor\u001b[39;00m x \u001b[38;5;129;01min\u001b[39;00m key)\n\u001b[0;32m   1145\u001b[0m     \u001b[38;5;28;01mif\u001b[39;00m \u001b[38;5;28mself\u001b[39m\u001b[38;5;241m.\u001b[39m_is_scalar_access(key):\n\u001b[1;32m-> 1146\u001b[0m         \u001b[38;5;28;01mreturn\u001b[39;00m \u001b[38;5;28;43mself\u001b[39;49m\u001b[38;5;241;43m.\u001b[39;49m\u001b[43mobj\u001b[49m\u001b[38;5;241;43m.\u001b[39;49m\u001b[43m_get_value\u001b[49m\u001b[43m(\u001b[49m\u001b[38;5;241;43m*\u001b[39;49m\u001b[43mkey\u001b[49m\u001b[43m,\u001b[49m\u001b[43m \u001b[49m\u001b[43mtakeable\u001b[49m\u001b[38;5;241;43m=\u001b[39;49m\u001b[38;5;28;43mself\u001b[39;49m\u001b[38;5;241;43m.\u001b[39;49m\u001b[43m_takeable\u001b[49m\u001b[43m)\u001b[49m\n\u001b[0;32m   1147\u001b[0m     \u001b[38;5;28;01mreturn\u001b[39;00m \u001b[38;5;28mself\u001b[39m\u001b[38;5;241m.\u001b[39m_getitem_tuple(key)\n\u001b[0;32m   1148\u001b[0m \u001b[38;5;28;01melse\u001b[39;00m:\n\u001b[0;32m   1149\u001b[0m     \u001b[38;5;66;03m# we by definition only have the 0th axis\u001b[39;00m\n",
      "File \u001b[1;32m~\\AppData\\Local\\Packages\\PythonSoftwareFoundation.Python.3.11_qbz5n2kfra8p0\\LocalCache\\local-packages\\Python311\\site-packages\\pandas\\core\\frame.py:4015\u001b[0m, in \u001b[0;36mDataFrame._get_value\u001b[1;34m(self, index, col, takeable)\u001b[0m\n\u001b[0;32m   4009\u001b[0m engine \u001b[38;5;241m=\u001b[39m \u001b[38;5;28mself\u001b[39m\u001b[38;5;241m.\u001b[39mindex\u001b[38;5;241m.\u001b[39m_engine\n\u001b[0;32m   4011\u001b[0m \u001b[38;5;28;01mif\u001b[39;00m \u001b[38;5;129;01mnot\u001b[39;00m \u001b[38;5;28misinstance\u001b[39m(\u001b[38;5;28mself\u001b[39m\u001b[38;5;241m.\u001b[39mindex, MultiIndex):\n\u001b[0;32m   4012\u001b[0m     \u001b[38;5;66;03m# CategoricalIndex: Trying to use the engine fastpath may give incorrect\u001b[39;00m\n\u001b[0;32m   4013\u001b[0m     \u001b[38;5;66;03m#  results if our categories are integers that dont match our codes\u001b[39;00m\n\u001b[0;32m   4014\u001b[0m     \u001b[38;5;66;03m# IntervalIndex: IntervalTree has no get_loc\u001b[39;00m\n\u001b[1;32m-> 4015\u001b[0m     row \u001b[38;5;241m=\u001b[39m \u001b[38;5;28;43mself\u001b[39;49m\u001b[38;5;241;43m.\u001b[39;49m\u001b[43mindex\u001b[49m\u001b[38;5;241;43m.\u001b[39;49m\u001b[43mget_loc\u001b[49m\u001b[43m(\u001b[49m\u001b[43mindex\u001b[49m\u001b[43m)\u001b[49m\n\u001b[0;32m   4016\u001b[0m     \u001b[38;5;28;01mreturn\u001b[39;00m series\u001b[38;5;241m.\u001b[39m_values[row]\n\u001b[0;32m   4018\u001b[0m \u001b[38;5;66;03m# For MultiIndex going through engine effectively restricts us to\u001b[39;00m\n\u001b[0;32m   4019\u001b[0m \u001b[38;5;66;03m#  same-length tuples; see test_get_set_value_no_partial_indexing\u001b[39;00m\n",
      "File \u001b[1;32m~\\AppData\\Local\\Packages\\PythonSoftwareFoundation.Python.3.11_qbz5n2kfra8p0\\LocalCache\\local-packages\\Python311\\site-packages\\pandas\\core\\indexes\\base.py:3797\u001b[0m, in \u001b[0;36mIndex.get_loc\u001b[1;34m(self, key)\u001b[0m\n\u001b[0;32m   3792\u001b[0m     \u001b[38;5;28;01mif\u001b[39;00m \u001b[38;5;28misinstance\u001b[39m(casted_key, \u001b[38;5;28mslice\u001b[39m) \u001b[38;5;129;01mor\u001b[39;00m (\n\u001b[0;32m   3793\u001b[0m         \u001b[38;5;28misinstance\u001b[39m(casted_key, abc\u001b[38;5;241m.\u001b[39mIterable)\n\u001b[0;32m   3794\u001b[0m         \u001b[38;5;129;01mand\u001b[39;00m \u001b[38;5;28many\u001b[39m(\u001b[38;5;28misinstance\u001b[39m(x, \u001b[38;5;28mslice\u001b[39m) \u001b[38;5;28;01mfor\u001b[39;00m x \u001b[38;5;129;01min\u001b[39;00m casted_key)\n\u001b[0;32m   3795\u001b[0m     ):\n\u001b[0;32m   3796\u001b[0m         \u001b[38;5;28;01mraise\u001b[39;00m InvalidIndexError(key)\n\u001b[1;32m-> 3797\u001b[0m     \u001b[38;5;28;01mraise\u001b[39;00m \u001b[38;5;167;01mKeyError\u001b[39;00m(key) \u001b[38;5;28;01mfrom\u001b[39;00m \u001b[38;5;21;01merr\u001b[39;00m\n\u001b[0;32m   3798\u001b[0m \u001b[38;5;28;01mexcept\u001b[39;00m \u001b[38;5;167;01mTypeError\u001b[39;00m:\n\u001b[0;32m   3799\u001b[0m     \u001b[38;5;66;03m# If we have a listlike key, _check_indexing_error will raise\u001b[39;00m\n\u001b[0;32m   3800\u001b[0m     \u001b[38;5;66;03m#  InvalidIndexError. Otherwise we fall through and re-raise\u001b[39;00m\n\u001b[0;32m   3801\u001b[0m     \u001b[38;5;66;03m#  the TypeError.\u001b[39;00m\n\u001b[0;32m   3802\u001b[0m     \u001b[38;5;28mself\u001b[39m\u001b[38;5;241m.\u001b[39m_check_indexing_error(key)\n",
      "\u001b[1;31mKeyError\u001b[0m: 'C'"
     ]
    }
   ],
   "source": [
    "# Determine To-Be situation\n",
    "best_dc_allocation = {}\n",
    "# then check everything! (also ask why DC is not in the list)\n",
    "for state in outbound_data.index:\n",
    "    best_dc = (outbound_data.loc[state]).idxmin()\n",
    "    \n",
    "    if best_dc not in best_dc_allocation:\n",
    "        best_dc_allocation[best_dc] = state\n",
    "    elif isinstance(best_dc_allocation[best_dc], list):\n",
    "        best_dc_allocation[best_dc].append(state)\n",
    "    else:\n",
    "        best_dc_allocation[best_dc] = [best_dc_allocation[best_dc], state]\n",
    "        \n",
    "outbound_costs(best_dc_allocation)\n"
   ]
  },
  {
   "cell_type": "code",
   "execution_count": null,
   "id": "f065e94a",
   "metadata": {},
   "outputs": [],
   "source": []
  }
 ],
 "metadata": {
  "kernelspec": {
   "display_name": "Python 3 (ipykernel)",
   "language": "python",
   "name": "python3"
  },
  "language_info": {
   "codemirror_mode": {
    "name": "ipython",
    "version": 3
   },
   "file_extension": ".py",
   "mimetype": "text/x-python",
   "name": "python",
   "nbconvert_exporter": "python",
   "pygments_lexer": "ipython3",
   "version": "3.11.9"
  }
 },
 "nbformat": 4,
 "nbformat_minor": 5
}
