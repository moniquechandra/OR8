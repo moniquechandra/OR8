{
 "cells": [
  {
   "cell_type": "code",
   "execution_count": 75,
   "id": "4109882e",
   "metadata": {},
   "outputs": [],
   "source": [
    "import numpy as np\n",
    "import pandas as pd\n",
    "import warnings\n",
    "warnings.filterwarnings('ignore')"
   ]
  },
  {
   "cell_type": "code",
   "execution_count": 150,
   "id": "3e2c465d",
   "metadata": {},
   "outputs": [],
   "source": [
    "outbound_data = pd.read_excel(\"Outbound.xlsx\")\n",
    "demand_data = pd.read_excel(\"Demand Forecast.xlsx\")\n",
    "unit_data = pd.read_excel('Product Data per State.xlsx')\n",
    "handling_out_data = pd.read_excel('Warehousing.xlsx')"
   ]
  },
  {
   "cell_type": "code",
   "execution_count": 151,
   "id": "c583f5e7",
   "metadata": {},
   "outputs": [],
   "source": [
    "# What I did: removed the State column, remove the description of tariff and small shipments\n",
    "outbound_data.index = outbound_data.State\n",
    "demand_data.index = demand_data.state\n",
    "outbound_data = outbound_data.drop(['State','Small shipment'], axis=1)"
   ]
  },
  {
   "cell_type": "code",
   "execution_count": 153,
   "id": "66efb75e",
   "metadata": {},
   "outputs": [
    {
     "data": {
      "text/plain": [
       "{'NY': {'blender': 226319,\n",
       "  'swing': 6468,\n",
       "  'chair': 161655,\n",
       "  'scooter': 3233,\n",
       "  'skiprope': 969935},\n",
       " 'ND': {'blender': 31949,\n",
       "  'swing': 913,\n",
       "  'chair': 22820,\n",
       "  'scooter': 22832,\n",
       "  'skiprope': 136921},\n",
       " 'IL': {'blender': 271812,\n",
       "  'swing': 7766,\n",
       "  'chair': 194150,\n",
       "  'scooter': 3884,\n",
       "  'skiprope': 1164904},\n",
       " 'TN': {'blender': 216583,\n",
       "  'swing': 6188,\n",
       "  'chair': 154702,\n",
       "  'scooter': 3095,\n",
       "  'skiprope': 928213},\n",
       " 'WA': {'blender': 51437,\n",
       "  'swing': 1470,\n",
       "  'chair': 36741,\n",
       "  'scooter': 735,\n",
       "  'skiprope': 220442},\n",
       " 'TX': {'blender': 190768,\n",
       "  'swing': 5451,\n",
       "  'chair': 136263,\n",
       "  'scooter': 2725,\n",
       "  'skiprope': 817575},\n",
       " 'UT': {'blender': 179502,\n",
       "  'swing': 5129,\n",
       "  'chair': 128215,\n",
       "  'scooter': 2564,\n",
       "  'skiprope': 769295}}"
      ]
     },
     "execution_count": 153,
     "metadata": {},
     "output_type": "execute_result"
    }
   ],
   "source": [
    "# As-Is situation\n",
    "\n",
    "as_is_dc = {\n",
    "    \"NY\": ['CT', 'DC', 'DE', 'MA', 'MD', 'ME', 'NH', 'NJ', 'NY', 'PA', 'RI', 'VT'],\n",
    "    \"ND\": ['MN', 'MT', 'ND', 'SD', 'WY'],\n",
    "    \"IL\": ['HI', 'IA', 'IL', 'IN', 'KS', 'KY', 'MI', 'MO', 'NE', 'OH', 'VA', 'WI', 'WV'],\n",
    "    \"TN\": ['AL', 'FL', 'GA', 'NC', 'SC', 'TN'],\n",
    "    \"WA\": ['AK', 'ID', 'OR', 'WA'],\n",
    "    \"TX\": ['AR', 'AZ', 'LA', 'MS', 'NM', 'OK', 'TX'],\n",
    "    \"UT\": ['CA', 'CO', 'NV', 'UT']\n",
    "}\n",
    "\n",
    "dc_product_demand = {}\n",
    "for dc in as_is_dc:\n",
    "    dc_product_demand[dc] = {}  # Create a dictionary for each DC\n",
    "    for product in ['blender', 'swing', 'chair', 'scooter', 'skiprope']:\n",
    "        total_demand_per_dc = 0\n",
    "        for state in as_is_dc[dc]:\n",
    "            total_demand_per_dc += (demand_data.loc[state, product])\n",
    "        dc_product_demand[dc][product] = total_demand_per_dc  # Store demand (in boxes) for each product based on DC\n",
    "\n",
    "dc_product_demand"
   ]
  },
  {
   "cell_type": "code",
   "execution_count": 154,
   "id": "c4ff9543",
   "metadata": {},
   "outputs": [
    {
     "name": "stdout",
     "output_type": "stream",
     "text": [
      "Total Shipping Costs (from DC to Customers): 1135481.33914202\n",
      "Total Handling Out Costs: 1845542.21\n",
      "Total costs for keeping 7 DCs open: 7000000\n",
      "Total Outbound Costs: 9981023.5\n"
     ]
    }
   ],
   "source": [
    "# Calculate the outbound costs\n",
    "shipping_costs = []\n",
    "handling_out_costs_per_dc = []\n",
    "product_units = unit_data.columns.difference(['state'])\n",
    "handling_out_data.index = handling_out_data.DC\n",
    "unit_data.index = unit_data.state\n",
    "\n",
    "for state in demand_data.index:\n",
    "    for dc, states in as_is_dc.items():\n",
    "        if state in states:\n",
    "            shipping_costs.append((demand_data['total_weight'][state] * outbound_data.loc[state, dc]))\n",
    "            # handling_out_costs.append(demand_data['blender_boxes'] * handling_out_data.loc[dc, ])\n",
    "\n",
    "for dc, states in as_is_dc.items():\n",
    "    out_costs_per_state = 0\n",
    "    for state in unit_data.index:\n",
    "        if state in states:\n",
    "            for product in product_units:\n",
    "                out_costs_per_state += unit_data[product][state] * handling_out_data.loc[dc, product]\n",
    "            \n",
    "    handling_out_costs_per_dc.append(out_costs_per_state)\n",
    "\n",
    "shipping_costs = sum(shipping_costs)\n",
    "handling_out_costs = sum(handling_out_costs_per_dc)\n",
    "opening_costs = len(as_is_dc)*1000000 # Keep a DC open need $1M per year.\n",
    "total_outbound_costs = np.round(shipping_costs + handling_out_costs + opening_costs, 1)\n",
    "\n",
    "print('Total Shipping Costs (from DC to Customers):', shipping_costs)\n",
    "print('Total Handling Out Costs:', handling_out_costs)\n",
    "print('Total costs for keeping 7 DCs open:', opening_costs)\n",
    "print('Total Outbound Costs:', total_outbound_costs)"
   ]
  },
  {
   "cell_type": "code",
   "execution_count": null,
   "id": "027d6bfe",
   "metadata": {},
   "outputs": [],
   "source": []
  },
  {
   "cell_type": "code",
   "execution_count": 81,
   "id": "9973ff37",
   "metadata": {},
   "outputs": [
    {
     "name": "stdout",
     "output_type": "stream",
     "text": [
      "{'WA': ['AK', 'ID', 'MT', 'OR', 'WA'], 'TN': ['AL', 'FL', 'GA', 'KY', 'MS', 'NC', 'OH', 'SC', 'VA', 'WV'], 'TX': ['AR', 'LA', 'NM', 'OK', 'TN', 'TX'], 'UT': ['AZ', 'CO', 'NV', 'UT', 'WY'], 'CA': 'CA', 'NY': ['CT', 'DE', 'MA', 'ME', 'NH', 'NJ', 'NY', 'RI', 'VT'], 'PA': ['HI', 'MD', 'PA', 'DC'], 'KS': ['IA', 'KS', 'MO', 'NE'], 'IL': ['IL', 'MI', 'MN'], 'ND': ['IN', 'ND', 'SD', 'WI']}\n"
     ]
    }
   ],
   "source": [
    "# Determine To-Be situation\n",
    "best_dc_allocation = {}\n",
    "# then check everything! (also ask why DC is not in the list)\n",
    "for state in outbound_data.index:\n",
    "    best_dc = (outbound_data.loc[state]).idxmin()\n",
    "    \n",
    "    if best_dc not in best_dc_allocation:\n",
    "        best_dc_allocation[best_dc] = state\n",
    "    elif isinstance(best_dc_allocation[best_dc], list):\n",
    "        best_dc_allocation[best_dc].append(state)\n",
    "    else:\n",
    "        best_dc_allocation[best_dc] = [best_dc_allocation[best_dc], state]\n",
    "        \n",
    "print(best_dc_allocation)"
   ]
  },
  {
   "cell_type": "code",
   "execution_count": null,
   "id": "f065e94a",
   "metadata": {},
   "outputs": [],
   "source": []
  }
 ],
 "metadata": {
  "kernelspec": {
   "display_name": "Python 3 (ipykernel)",
   "language": "python",
   "name": "python3"
  },
  "language_info": {
   "codemirror_mode": {
    "name": "ipython",
    "version": 3
   },
   "file_extension": ".py",
   "mimetype": "text/x-python",
   "name": "python",
   "nbconvert_exporter": "python",
   "pygments_lexer": "ipython3",
   "version": "3.11.9"
  }
 },
 "nbformat": 4,
 "nbformat_minor": 5
}
