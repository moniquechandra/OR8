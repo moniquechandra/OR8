{
 "cells": [
  {
   "cell_type": "code",
   "execution_count": 10,
   "id": "4109882e",
   "metadata": {},
   "outputs": [],
   "source": [
    "import numpy as np\n",
    "import pandas as pd\n",
    "import warnings\n",
    "warnings.filterwarnings('ignore')"
   ]
  },
  {
   "cell_type": "code",
   "execution_count": 20,
   "id": "3e2c465d",
   "metadata": {},
   "outputs": [],
   "source": [
    "outbound_data = pd.read_excel(\"Outbound.xlsx\")\n",
    "demand_data = pd.read_excel(\"Demand Forecast.xlsx\")\n",
    "unit_data = pd.read_excel('Product Data per State.xlsx')\n",
    "handling_out_data = pd.read_excel('Warehousing.xlsx')"
   ]
  },
  {
   "cell_type": "code",
   "execution_count": 21,
   "id": "c583f5e7",
   "metadata": {},
   "outputs": [],
   "source": [
    "# What I did: removed the State column, remove the description of tariff and small shipments\n",
    "outbound_data.index = outbound_data.State\n",
    "demand_data.index = demand_data.state\n",
    "outbound_data = outbound_data.drop(['State','Small shipment'], axis=1)"
   ]
  },
  {
   "cell_type": "code",
   "execution_count": 22,
   "id": "66efb75e",
   "metadata": {},
   "outputs": [],
   "source": [
    "# As-Is situation\n",
    "\n",
    "def outbound_costs(dc_allocation):\n",
    "\n",
    "    # Calculate the demand per product and DC in boxes\n",
    "    dc_product_demand = {}\n",
    "    for dc in dc_allocation:\n",
    "        dc_product_demand[dc] = {}  # Create a dictionary for each DC\n",
    "        for product in ['blender', 'swing', 'chair', 'scooter', 'skiprope']:\n",
    "            total_demand_per_dc = 0\n",
    "            for state in dc_allocation[dc]:\n",
    "                total_demand_per_dc += (demand_data.loc[state, product])\n",
    "            dc_product_demand[dc][product] = total_demand_per_dc  # Store demand (in boxes) for each product based on DC\n",
    "\n",
    "    # Calculate the outbound costs\n",
    "    shipping_costs = []\n",
    "    handling_out_costs_per_dc = []\n",
    "    product_units = unit_data.columns.difference(['state'])\n",
    "    handling_out_data.index = handling_out_data.DC\n",
    "    unit_data.index = unit_data.state\n",
    "\n",
    "    for state in demand_data.index:\n",
    "        for dc, states in dc_allocation.items():\n",
    "            if state in states:\n",
    "                shipping_costs.append((demand_data['total_weight'][state] * outbound_data.loc[state, dc]))\n",
    "\n",
    "    for dc, states in dc_allocation.items():\n",
    "        out_costs_per_state = 0\n",
    "        for state in unit_data.index:\n",
    "            if state in states:\n",
    "                for product in product_units:\n",
    "                    out_costs_per_state += unit_data[product][state] * handling_out_data.loc[dc, product]\n",
    "                \n",
    "        handling_out_costs_per_dc.append(out_costs_per_state)\n",
    "\n",
    "    shipping_costs = sum(shipping_costs)\n",
    "    handling_out_costs = sum(handling_out_costs_per_dc)\n",
    "    opening_costs = len(dc_allocation)*1000000 # Keep a DC open need $1M per year.\n",
    "    total_outbound_costs = np.round(shipping_costs + handling_out_costs + opening_costs, 1)\n",
    "\n",
    "    print(dc_product_demand)\n",
    "    print('Total Shipping Costs (from DC to Customers):', shipping_costs)\n",
    "    print('Total Handling Out Costs:', handling_out_costs)\n",
    "    print(f'Total costs for keeping {len(dc_allocation)} DCs open:', opening_costs)\n",
    "    print('Total Outbound Costs:', total_outbound_costs)\n",
    "\n",
    "    "
   ]
  },
  {
   "cell_type": "code",
   "execution_count": 23,
   "id": "027d6bfe",
   "metadata": {},
   "outputs": [
    {
     "name": "stdout",
     "output_type": "stream",
     "text": [
      "{'NY': {'blender': 226319, 'swing': 6468, 'chair': 161655, 'scooter': 3233, 'skiprope': 969935}, 'ND': {'blender': 31949, 'swing': 913, 'chair': 22820, 'scooter': 22832, 'skiprope': 136921}, 'IL': {'blender': 271812, 'swing': 7766, 'chair': 194150, 'scooter': 3884, 'skiprope': 1164904}, 'TN': {'blender': 216583, 'swing': 6188, 'chair': 154702, 'scooter': 3095, 'skiprope': 928213}, 'WA': {'blender': 51437, 'swing': 1470, 'chair': 36741, 'scooter': 735, 'skiprope': 220442}, 'TX': {'blender': 190768, 'swing': 5451, 'chair': 136263, 'scooter': 2725, 'skiprope': 817575}, 'UT': {'blender': 179502, 'swing': 5129, 'chair': 128215, 'scooter': 2564, 'skiprope': 769295}}\n",
      "Total Shipping Costs (from DC to Customers): 1135481.33914202\n",
      "Total Handling Out Costs: 1804220.62\n",
      "Total costs for keeping 7 DCs open: 7000000\n",
      "Total Outbound Costs: 9939702.0\n"
     ]
    }
   ],
   "source": [
    "as_is_dc = {\n",
    "    \"NY\": ['CT', 'DC', 'DE', 'MA', 'MD', 'ME', 'NH', 'NJ', 'NY', 'PA', 'RI', 'VT'],\n",
    "    \"ND\": ['MN', 'MT', 'ND', 'SD', 'WY'],\n",
    "    \"IL\": ['HI', 'IA', 'IL', 'IN', 'KS', 'KY', 'MI', 'MO', 'NE', 'OH', 'VA', 'WI', 'WV'],\n",
    "    \"TN\": ['AL', 'FL', 'GA', 'NC', 'SC', 'TN'],\n",
    "    \"WA\": ['AK', 'ID', 'OR', 'WA'],\n",
    "    \"TX\": ['AR', 'AZ', 'LA', 'MS', 'NM', 'OK', 'TX'],\n",
    "    \"UT\": ['CA', 'CO', 'NV', 'UT']\n",
    "}\n",
    "\n",
    "outbound_costs(as_is_dc)"
   ]
  },
  {
   "cell_type": "code",
   "execution_count": 26,
   "id": "9973ff37",
   "metadata": {},
   "outputs": [
    {
     "name": "stdout",
     "output_type": "stream",
     "text": [
      "{'WA': {'blender': 55389, 'swing': 1583, 'chair': 39564, 'scooter': 23167, 'skiprope': 237379}, 'TN': {'blender': 295463, 'swing': 8442, 'chair': 211044, 'scooter': 4222, 'skiprope': 1266269}, 'TX': {'blender': 179449, 'swing': 5127, 'chair': 128178, 'scooter': 2563, 'skiprope': 769067}, 'UT': {'blender': 71533, 'swing': 2044, 'chair': 51094, 'scooter': 1021, 'skiprope': 306567}, 'CA': {'blender': 135932, 'swing': 3884, 'chair': 97094, 'scooter': 1942, 'skiprope': 582565}, 'NY': {'blender': 157173, 'swing': 4492, 'chair': 112265, 'scooter': 2245, 'skiprope': 673595}, 'PA': {'blender': 74153, 'swing': 2119, 'chair': 52966, 'scooter': 1060, 'skiprope': 317797}, 'KS': {'blender': 49964, 'swing': 1428, 'chair': 35688, 'scooter': 715, 'skiprope': 214129}, 'IL': {'blender': 98812, 'swing': 2823, 'chair': 70581, 'scooter': 1411, 'skiprope': 423482}, 'ND': {'blender': 50502, 'swing': 1443, 'chair': 36072, 'scooter': 722, 'skiprope': 216435}}\n",
      "Total Shipping Costs (from DC to Customers): 911216.61240381\n",
      "Total Handling Out Costs: 1825572.3299999996\n",
      "Total costs for keeping 10 DCs open: 10000000\n",
      "Total Outbound Costs: 12736788.9\n",
      "None\n"
     ]
    }
   ],
   "source": [
    "# Allocate dc based on the distance/costs greedily\n",
    "dc_allocation = {}\n",
    "for state in outbound_data.index:\n",
    "    best_dc = (outbound_data.loc[state]).idxmin()\n",
    "    \n",
    "    if best_dc not in dc_allocation:\n",
    "        dc_allocation[best_dc] = [state]\n",
    "    elif isinstance(dc_allocation[best_dc], list):\n",
    "        dc_allocation[best_dc].append(state)\n",
    "    else:\n",
    "        dc_allocation[best_dc] = [dc_allocation[best_dc], state]\n",
    "        \n",
    "print(outbound_costs(dc_allocation))"
   ]
  },
  {
   "cell_type": "code",
   "execution_count": 28,
   "id": "b2fccc6c",
   "metadata": {},
   "outputs": [
    {
     "name": "stdout",
     "output_type": "stream",
     "text": [
      "{'WA': {'blender': 95009, 'swing': 2715, 'chair': 67862, 'scooter': 1358, 'skiprope': 407176}, 'TN': {'blender': 343842, 'swing': 9825, 'chair': 245603, 'scooter': 4913, 'skiprope': 1473608}, 'UT': {'blender': 37800, 'swing': 1080, 'chair': 27000, 'scooter': 540, 'skiprope': 162001}, 'NY': {'blender': 341138, 'swing': 9748, 'chair': 243666, 'scooter': 4874, 'skiprope': 1462011}, 'ND': {'blender': 35015, 'swing': 1000, 'chair': 25011, 'scooter': 500, 'skiprope': 150066}, 'IL': {'blender': 259787, 'swing': 7423, 'chair': 185562, 'scooter': 3710, 'skiprope': 1113371}, 'TX': {'blender': 55779, 'swing': 1594, 'chair': 39842, 'scooter': 23173, 'skiprope': 239052}}\n",
      "Total Shipping Costs (from DC to Customers): 2565522.8295609397\n",
      "Total Handling Out Costs: 1830690.81\n",
      "Total costs for keeping 7 DCs open: 7000000\n",
      "Total Outbound Costs: 11396213.6\n"
     ]
    }
   ],
   "source": [
    "greedy_dc = {}\n",
    "for state in outbound_data.index:\n",
    "    current_dc = outbound_data[list(as_is_dc.keys())]\n",
    "    best_dc = (current_dc.loc[state]).idxmin()\n",
    "    if best_dc not in as_is_dc:\n",
    "        print(best_dc)\n",
    "    \n",
    "    if best_dc not in greedy_dc:\n",
    "        greedy_dc[best_dc] = [state]\n",
    "    elif isinstance(greedy_dc[best_dc], list):\n",
    "        greedy_dc[best_dc].append(state)\n",
    "    else:\n",
    "        greedy_dc[best_dc] = [greedy_dc[best_dc], state]\n",
    "\n",
    "outbound_costs(greedy_dc)"
   ]
  }
 ],
 "metadata": {
  "kernelspec": {
   "display_name": "Python 3 (ipykernel)",
   "language": "python",
   "name": "python3"
  },
  "language_info": {
   "codemirror_mode": {
    "name": "ipython",
    "version": 3
   },
   "file_extension": ".py",
   "mimetype": "text/x-python",
   "name": "python",
   "nbconvert_exporter": "python",
   "pygments_lexer": "ipython3",
   "version": "3.11.9"
  }
 },
 "nbformat": 4,
 "nbformat_minor": 5
}
