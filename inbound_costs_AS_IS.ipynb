{
 "cells": [
  {
   "cell_type": "code",
   "execution_count": 2,
   "metadata": {},
   "outputs": [],
   "source": [
    "import pandas as pd"
   ]
  },
  {
   "cell_type": "code",
   "execution_count": 18,
   "metadata": {},
   "outputs": [],
   "source": [
    "containers_data = pd.read_excel('Containers_Demand.xlsx')\n",
    "tariff_data = pd.read_excel('Tariff_dc_container_product.xlsx')"
   ]
  },
  {
   "cell_type": "code",
   "execution_count": 22,
   "metadata": {},
   "outputs": [
    {
     "name": "stdout",
     "output_type": "stream",
     "text": [
      "Inbound costs: 1124750\n"
     ]
    }
   ],
   "source": [
    "# Merging the tariff data with the containers data\n",
    "merged_data = pd.merge(containers_data, tariff_data, on='State')\n",
    "\n",
    "# Calculating the total cost per product for each state\n",
    "merged_data['total_blender_cost'] = merged_data['blender_containers'] * merged_data['swing_blender']\n",
    "merged_data['total_chair_cost'] = merged_data['chair_containers'] * merged_data['chair']\n",
    "merged_data['total_scooter_cost'] = merged_data['scooter_containers'] * merged_data['scooter']\n",
    "merged_data['total_skiprope_cost'] = merged_data['skiprope_containers'] * merged_data['skiprope']\n",
    "merged_data['total_swing_cost'] = merged_data['swing_containers'] * merged_data['swing_blender']\n",
    "\n",
    "# Summing the total cost for all products for each state to get the Inbound cost\n",
    "merged_data['inbound_cost'] = (\n",
    "    merged_data['total_blender_cost'] +\n",
    "    merged_data['total_chair_cost'] +\n",
    "    merged_data['total_scooter_cost'] +\n",
    "    merged_data['total_skiprope_cost'] +\n",
    "    merged_data['total_swing_cost']\n",
    ")\n",
    "\n",
    "# Calculating the total inbound cost for all states\n",
    "total_inbound_cost = merged_data['inbound_cost'].sum()\n",
    "\n",
    "print(f\"Inbound costs:\", total_inbound_cost)"
   ]
  },
  {
   "cell_type": "code",
   "execution_count": null,
   "metadata": {},
   "outputs": [],
   "source": []
  }
 ],
 "metadata": {
  "kernelspec": {
   "display_name": "Python 3",
   "language": "python",
   "name": "python3"
  },
  "language_info": {
   "codemirror_mode": {
    "name": "ipython",
    "version": 3
   },
   "file_extension": ".py",
   "mimetype": "text/x-python",
   "name": "python",
   "nbconvert_exporter": "python",
   "pygments_lexer": "ipython3",
   "version": "3.11.9"
  }
 },
 "nbformat": 4,
 "nbformat_minor": 2
}
