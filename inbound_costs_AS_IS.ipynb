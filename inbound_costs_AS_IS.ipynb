{
 "cells": [
  {
   "cell_type": "code",
   "execution_count": 1,
   "metadata": {},
   "outputs": [],
   "source": [
    "import pandas as pd\n",
    "from to_be import To_Be\n",
    "from product_details import Parameters\n",
    "tb = To_Be()\n",
    "pm = Parameters()"
   ]
  },
  {
   "cell_type": "code",
   "execution_count": 2,
   "metadata": {},
   "outputs": [],
   "source": [
    "containers_data = pd.read_excel('Containers_Demand.xlsx')\n",
    "tariff_data = pd.read_excel('Tariff_dc_container_product.xlsx')"
   ]
  },
  {
   "cell_type": "code",
   "execution_count": 3,
   "metadata": {},
   "outputs": [
    {
     "name": "stdout",
     "output_type": "stream",
     "text": [
      "Inbound costs: 1124750\n"
     ]
    }
   ],
   "source": [
    "# Merging the tariff data with the containers data\n",
    "merged_data = pd.merge(containers_data, tariff_data, on='State')\n",
    "\n",
    "# Calculating the total cost per product for each state\n",
    "merged_data['total_blender_cost'] = merged_data['blender_containers'] * merged_data['swing_blender']\n",
    "merged_data['total_chair_cost'] = merged_data['chair_containers'] * merged_data['chair']\n",
    "merged_data['total_scooter_cost'] = merged_data['scooter_containers'] * merged_data['scooter']\n",
    "merged_data['total_skiprope_cost'] = merged_data['skiprope_containers'] * merged_data['skiprope']\n",
    "merged_data['total_swing_cost'] = merged_data['swing_containers'] * merged_data['swing_blender']\n",
    "\n",
    "# Summing the total cost for all products for each state to get the Inbound cost\n",
    "merged_data['inbound_cost'] = (\n",
    "    merged_data['total_blender_cost'] +\n",
    "    merged_data['total_chair_cost'] +\n",
    "    merged_data['total_scooter_cost'] +\n",
    "    merged_data['total_skiprope_cost'] +\n",
    "    merged_data['total_swing_cost']\n",
    ")\n",
    "\n",
    "# Calculating the total inbound cost for all states\n",
    "total_inbound_cost = merged_data['inbound_cost'].sum()\n",
    "\n",
    "print(f\"Inbound costs:\", total_inbound_cost)"
   ]
  },
  {
   "cell_type": "code",
   "execution_count": 2,
   "metadata": {},
   "outputs": [
    {
     "data": {
      "text/plain": [
       "{'NY': {'skiprope': 49.0,\n",
       "  'chair': 16.0,\n",
       "  'blender': 17.0,\n",
       "  'scooter': 1.0,\n",
       "  'swing': 1.0},\n",
       " 'ND': {'skiprope': 7.0,\n",
       "  'chair': 3.0,\n",
       "  'blender': 3.0,\n",
       "  'scooter': 6.0,\n",
       "  'swing': 1.0},\n",
       " 'IL': {'skiprope': 59.0,\n",
       "  'chair': 19.0,\n",
       "  'blender': 21.0,\n",
       "  'scooter': 1.0,\n",
       "  'swing': 1.0},\n",
       " 'TN': {'skiprope': 47.0,\n",
       "  'chair': 15.0,\n",
       "  'blender': 17.0,\n",
       "  'scooter': 1.0,\n",
       "  'swing': 1.0},\n",
       " 'WA': {'skiprope': 12.0,\n",
       "  'chair': 4.0,\n",
       "  'blender': 4.0,\n",
       "  'scooter': 1.0,\n",
       "  'swing': 1.0},\n",
       " 'TX': {'skiprope': 41.0,\n",
       "  'chair': 14.0,\n",
       "  'blender': 15.0,\n",
       "  'scooter': 1.0,\n",
       "  'swing': 1.0},\n",
       " 'UT': {'skiprope': 39.0,\n",
       "  'chair': 13.0,\n",
       "  'blender': 14.0,\n",
       "  'scooter': 1.0,\n",
       "  'swing': 1.0}}"
      ]
     },
     "execution_count": 2,
     "metadata": {},
     "output_type": "execute_result"
    }
   ],
   "source": [
    "as_is_dc = {\n",
    "    \"NY\": ['CT', 'DC', 'DE', 'MA', 'MD', 'ME', 'NH', 'NJ', 'NY', 'PA', 'RI', 'VT'],\n",
    "    \"ND\": ['MN', 'MT', 'ND', 'SD', 'WY'],\n",
    "    \"IL\": ['HI', 'IA', 'IL', 'IN', 'KS', 'KY', 'MI', 'MO', 'NE', 'OH', 'VA', 'WI', 'WV'],\n",
    "    \"TN\": ['AL', 'FL', 'GA', 'NC', 'SC', 'TN'],\n",
    "    \"WA\": ['AK', 'ID', 'OR', 'WA'],\n",
    "    \"TX\": ['AR', 'AZ', 'LA', 'MS', 'NM', 'OK', 'TX'],\n",
    "    \"UT\": ['CA', 'CO', 'NV', 'UT']\n",
    "}\n",
    "\n",
    "dc_product_demand_containers = pm.product_demand_per_dc(as_is_dc, pm.demand_data, pm.product_data, False)\n",
    "dc_product_demand_containers"
   ]
  },
  {
   "cell_type": "code",
   "execution_count": 7,
   "metadata": {},
   "outputs": [
    {
     "data": {
      "text/plain": [
       "55780.0"
      ]
     },
     "execution_count": 7,
     "metadata": {},
     "output_type": "execute_result"
    }
   ],
   "source": [
    "dc_handling_in_costs = 0\n",
    "for dc, products_dict in dc_product_demand_containers.items():\n",
    "    num_containers_per_dc = 0\n",
    "    for product in products_dict.keys():\n",
    "        num_containers_per_dc += products_dict[product]\n",
    "        handling_in_costs = pm.warehousing_handlingIn_data.loc[dc, 'handling_in_costs_per_container']\n",
    "\n",
    "    dc_handling_in_costs += handling_in_costs * num_containers_per_dc\n",
    "\n",
    "dc_handling_in_costs"
   ]
  }
 ],
 "metadata": {
  "kernelspec": {
   "display_name": "Python 3",
   "language": "python",
   "name": "python3"
  },
  "language_info": {
   "codemirror_mode": {
    "name": "ipython",
    "version": 3
   },
   "file_extension": ".py",
   "mimetype": "text/x-python",
   "name": "python",
   "nbconvert_exporter": "python",
   "pygments_lexer": "ipython3",
   "version": "3.11.9"
  }
 },
 "nbformat": 4,
 "nbformat_minor": 2
}
