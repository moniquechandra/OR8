{
 "cells": [
  {
   "cell_type": "code",
   "execution_count": 5,
   "metadata": {},
   "outputs": [
    {
     "data": {
      "text/plain": [
       "{'NY': {'skiprope': 49, 'chair': 16, 'blender': 17, 'scooter': 1, 'swing': 1},\n",
       " 'ND': {'skiprope': 7, 'chair': 3, 'blender': 3, 'scooter': 6, 'swing': 1},\n",
       " 'IL': {'skiprope': 59, 'chair': 19, 'blender': 21, 'scooter': 1, 'swing': 1},\n",
       " 'TN': {'skiprope': 47, 'chair': 15, 'blender': 17, 'scooter': 1, 'swing': 1},\n",
       " 'WA': {'skiprope': 12, 'chair': 4, 'blender': 4, 'scooter': 1, 'swing': 1},\n",
       " 'TX': {'skiprope': 41, 'chair': 14, 'blender': 15, 'scooter': 1, 'swing': 1},\n",
       " 'UT': {'skiprope': 39, 'chair': 13, 'blender': 14, 'scooter': 1, 'swing': 1}}"
      ]
     },
     "execution_count": 5,
     "metadata": {},
     "output_type": "execute_result"
    }
   ],
   "source": [
    "from prod_details import Parameters\n",
    "pm = Parameters()\n",
    "import pandas as pd\n",
    "\n",
    "as_is_dc = {\n",
    "    \"NY\": ['CT', 'DC', 'DE', 'MA', 'MD', 'ME', 'NH', 'NJ', 'NY', 'PA', 'RI', 'VT'],\n",
    "    \"ND\": ['MN', 'MT', 'ND', 'SD', 'WY'],\n",
    "    \"IL\": ['HI', 'IA', 'IL', 'IN', 'KS', 'KY', 'MI', 'MO', 'NE', 'OH', 'VA', 'WI', 'WV'],\n",
    "    \"TN\": ['AL', 'FL', 'GA', 'NC', 'SC', 'TN'],\n",
    "    \"WA\": ['AK', 'ID', 'OR', 'WA'],\n",
    "    \"TX\": ['AR', 'AZ', 'LA', 'MS', 'NM', 'OK', 'TX'],\n",
    "    \"UT\": ['CA', 'CO', 'NV', 'UT']\n",
    "}\n",
    "\n",
    "dc_product_demand_containers = pm.product_demand_per_dc(as_is_dc, pm.demand_data, pm.product_data, False)\n",
    "dc_product_demand_containers"
   ]
  },
  {
   "cell_type": "code",
   "execution_count": 6,
   "metadata": {},
   "outputs": [
    {
     "name": "stdout",
     "output_type": "stream",
     "text": [
      "Excel file created successfully: containers_output.xlsx\n"
     ]
    }
   ],
   "source": [
    "# Create lists to hold the data\n",
    "states = []\n",
    "products = []\n",
    "containers = []\n",
    "\n",
    "# Extract data from the dictionary\n",
    "for state, products_data in dc_product_demand_containers.items():\n",
    "    for product, container_count in products_data.items():\n",
    "        states.append(state)\n",
    "        products.append(product)\n",
    "        containers.append(container_count)\n",
    "\n",
    "# Create a DataFrame\n",
    "df = pd.DataFrame({'State': states, 'Product': products, 'Containers': containers})\n",
    "\n",
    "# Pivot the DataFrame to get the desired format\n",
    "output_data = df.pivot(index='State', columns='Product', values='Containers')\n",
    "\n",
    "# Export the DataFrame to an Excel file\n",
    "output_file_path = \"containers_output.xlsx\"  # Specify the complete file path\n",
    "output_data.to_excel(output_file_path)\n",
    "print(\"Excel file created successfully:\", output_file_path)\n"
   ]
  }
 ],
 "metadata": {
  "kernelspec": {
   "display_name": "Python 3",
   "language": "python",
   "name": "python3"
  },
  "language_info": {
   "codemirror_mode": {
    "name": "ipython",
    "version": 3
   },
   "file_extension": ".py",
   "mimetype": "text/x-python",
   "name": "python",
   "nbconvert_exporter": "python",
   "pygments_lexer": "ipython3",
   "version": "3.11.9"
  }
 },
 "nbformat": 4,
 "nbformat_minor": 2
}
