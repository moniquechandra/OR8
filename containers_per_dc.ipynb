{
 "cells": [
  {
   "cell_type": "code",
   "execution_count": 34,
   "metadata": {},
   "outputs": [
    {
     "name": "stderr",
     "output_type": "stream",
     "text": [
      "C:\\Users\\triff\\AppData\\Local\\Packages\\PythonSoftwareFoundation.Python.3.11_qbz5n2kfra8p0\\LocalCache\\local-packages\\Python311\\site-packages\\openpyxl\\worksheet\\header_footer.py:48: UserWarning: Cannot parse header or footer so it will be ignored\n",
      "  warn(\"\"\"Cannot parse header or footer so it will be ignored\"\"\")\n"
     ]
    },
    {
     "data": {
      "text/plain": [
       "{'NY': {'blender': 17, 'swing': 1, 'chair': 16, 'scooter': 1, 'skiprope': 49},\n",
       " 'ND': {'blender': 3, 'swing': 1, 'chair': 3, 'scooter': 6, 'skiprope': 7},\n",
       " 'IL': {'blender': 21, 'swing': 1, 'chair': 19, 'scooter': 1, 'skiprope': 59},\n",
       " 'TN': {'blender': 17, 'swing': 1, 'chair': 15, 'scooter': 1, 'skiprope': 47},\n",
       " 'WA': {'blender': 4, 'swing': 1, 'chair': 4, 'scooter': 1, 'skiprope': 12},\n",
       " 'TX': {'blender': 15, 'swing': 1, 'chair': 14, 'scooter': 1, 'skiprope': 41},\n",
       " 'UT': {'blender': 14, 'swing': 1, 'chair': 13, 'scooter': 1, 'skiprope': 39}}"
      ]
     },
     "execution_count": 34,
     "metadata": {},
     "output_type": "execute_result"
    }
   ],
   "source": [
    "import pandas as pd\n",
    "import math\n",
    "\n",
    "# Load the Excel file 'Forecast' sheet\n",
    "file_path = \"C:\\\\Users\\\\triff\\\\Downloads\\\\Demand Forecast.xlsx\"\n",
    "demand_data = pd.read_excel(file_path, sheet_name='Forecast')\n",
    "demand_data.index = demand_data.state\n",
    "\n",
    "as_is_dc = {\n",
    "    \"NY\": ['CT', 'DC', 'DE', 'MA', 'MD', 'ME', 'NH', 'NJ', 'NY', 'PA', 'RI', 'VT'],\n",
    "    \"ND\": ['MN', 'MT', 'ND', 'SD', 'WY'],\n",
    "    \"IL\": ['HI', 'IA', 'IL', 'IN', 'KS', 'KY', 'MI', 'MO', 'NE', 'OH', 'VA', 'WI', 'WV'],\n",
    "    \"TN\": ['AL', 'FL', 'GA', 'NC', 'SC', 'TN'],\n",
    "    \"WA\": ['AK', 'ID', 'OR', 'WA'],\n",
    "    \"TX\": ['AR', 'AZ', 'LA', 'MS', 'NM', 'OK', 'TX'],\n",
    "    \"UT\": ['CA', 'CO', 'NV', 'UT']\n",
    "}\n",
    "\n",
    "dc_product_demand = {}\n",
    "for dc in as_is_dc:\n",
    "    dc_product_demand[dc] = {}  # Create a dictionary for each DC\n",
    "    for product in ['blender', 'swing', 'chair', 'scooter', 'skiprope']:\n",
    "        total_demand_per_dc = 0\n",
    "        for state in as_is_dc[dc]:\n",
    "            total_demand_per_dc += (demand_data.loc[state, product])\n",
    "        dc_product_demand[dc][product] = total_demand_per_dc  # Store demand (in boxes) for each product based on DC\n",
    "\n",
    "def calculate_containers(dc_product_demand):\n",
    "    # Data for calculating the number of containers\n",
    "    products_data = {\n",
    "        'blender': {'boxes_per_pallet': 336, 'pallets_per_container': 40},\n",
    "        'swing': {'boxes_per_pallet': 480, 'pallets_per_container': 40},\n",
    "        'chair': {'boxes_per_pallet': 275, 'pallets_per_container': 38},\n",
    "        'scooter': {'boxes_per_pallet': 120, 'pallets_per_container': 38},\n",
    "        'skiprope': {'boxes_per_pallet': 400, 'pallets_per_container': 50}\n",
    "    }\n",
    "    \n",
    "    # Calculate the number of pallets and containers for each product and DCdc_containers = {}\n",
    "    for dc, products in dc_product_demand.items():\n",
    "        dc_containers[dc] = {}\n",
    "        for product, demand in products.items():\n",
    "            # Get product data\n",
    "            product_data = products_data[product]\n",
    "            boxes_per_pallet = product_data['boxes_per_pallet']\n",
    "            pallets_per_container = product_data['pallets_per_container']\n",
    "            # Calculate pallets and containers\n",
    "            pallets_needed = math.ceil(demand / boxes_per_pallet)\n",
    "            containers_needed = math.ceil(pallets_needed / pallets_per_container)\n",
    "            dc_containers[dc][product] = containers_needed\n",
    "    return dc_containers\n",
    "\n",
    "# Example usage:\n",
    "dc_containers = calculate_containers(dc_product_demand)\n",
    "dc_containers"
   ]
  },
  {
   "cell_type": "code",
   "execution_count": 37,
   "metadata": {},
   "outputs": [
    {
     "name": "stdout",
     "output_type": "stream",
     "text": [
      "Excel file created successfully: containers_output.xlsx\n"
     ]
    }
   ],
   "source": [
    "# Create lists to hold the data\n",
    "states = []\n",
    "products = []\n",
    "containers = []\n",
    "\n",
    "# Extract data from the dictionary\n",
    "for state, products_data in dc_containers.items():\n",
    "    for product, container_count in products_data.items():\n",
    "        states.append(state)\n",
    "        products.append(product)\n",
    "        containers.append(container_count)\n",
    "\n",
    "# Create a DataFrame\n",
    "df = pd.DataFrame({'State': states, 'Product': products, 'Containers': containers})\n",
    "\n",
    "# Pivot the DataFrame to get the desired format\n",
    "output_data = df.pivot(index='State', columns='Product', values='Containers')\n",
    "\n",
    "# Export the DataFrame to an Excel file\n",
    "output_file_path = \"containers_output.xlsx\"  # Specify the complete file path\n",
    "output_data.to_excel(output_file_path)\n",
    "print(\"Excel file created successfully:\", output_file_path)\n"
   ]
  },
  {
   "cell_type": "code",
   "execution_count": null,
   "metadata": {},
   "outputs": [],
   "source": []
  }
 ],
 "metadata": {
  "kernelspec": {
   "display_name": "Python 3",
   "language": "python",
   "name": "python3"
  },
  "language_info": {
   "codemirror_mode": {
    "name": "ipython",
    "version": 3
   },
   "file_extension": ".py",
   "mimetype": "text/x-python",
   "name": "python",
   "nbconvert_exporter": "python",
   "pygments_lexer": "ipython3",
   "version": "3.11.9"
  }
 },
 "nbformat": 4,
 "nbformat_minor": 2
}
